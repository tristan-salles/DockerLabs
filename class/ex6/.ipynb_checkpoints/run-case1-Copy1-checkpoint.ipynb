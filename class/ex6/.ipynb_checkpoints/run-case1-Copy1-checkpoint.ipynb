{
 "cells": [
  {
   "cell_type": "code",
   "execution_count": null,
   "metadata": {
    "collapsed": false,
    "deletable": true,
    "editable": true
   },
   "outputs": [],
   "source": [
    "#!pip install -e /workspace/volume/pyReefCore"
   ]
  },
  {
   "cell_type": "code",
   "execution_count": null,
   "metadata": {
    "collapsed": false,
    "deletable": true,
    "editable": true
   },
   "outputs": [],
   "source": [
    "!rm -rf output-case1*\n",
    "\n",
    "%matplotlib inline\n",
    "import matplotlib.pyplot as plt\n",
    "import numpy as np\n",
    "import os\n",
    "import fnmatch\n",
    "import shutil\n",
    "from PIL import Image\n",
    "import cmocean as cmo\n",
    "\n",
    "%config InlineBackend.figure_format = 'svg'"
   ]
  },
  {
   "cell_type": "markdown",
   "metadata": {
    "deletable": true,
    "editable": true
   },
   "source": [
    "# ReefCore library\n",
    "\n",
    "**pyReef-Core** is a deterministic, one-dimensional (1-D) numerical model, that simulates the vertical coralgal growth patterns observed in a drill core, as well as the physical, environmental processes that effect coralgal growth. \n",
    "\n",
    "The model is capable of integrating ecological processes like coralgal community interactions over centennial-to-millennial scales using predator-prey or Generalised Lotka-Volterra Equations."
   ]
  },
  {
   "cell_type": "code",
   "execution_count": null,
   "metadata": {
    "collapsed": false,
    "deletable": true,
    "editable": true
   },
   "outputs": [],
   "source": [
    "from pyReefCore.model import Model"
   ]
  },
  {
   "cell_type": "markdown",
   "metadata": {
    "deletable": true,
    "editable": true
   },
   "source": [
    "Once the library has been loaded, the model initialisation is done using the following command:"
   ]
  },
  {
   "cell_type": "code",
   "execution_count": null,
   "metadata": {
    "collapsed": false,
    "deletable": true,
    "editable": true
   },
   "outputs": [],
   "source": [
    "# Initialise model\n",
    "reef = Model()"
   ]
  },
  {
   "cell_type": "markdown",
   "metadata": {
    "deletable": true,
    "editable": true
   },
   "source": [
    "# XmL input file\n",
    "\n",
    "The next step consists in defining the initial conditions for our simulation. This is done by using an **XmL** input file which set the parameters to be used, such as:\n",
    "\n",
    "- the initial community population number $X0$\n",
    "- the intrinsic rate of a population species $\\epsilon$\n",
    "- the interaction coefficients among the species association $\\alpha$"
   ]
  },
  {
   "cell_type": "code",
   "execution_count": null,
   "metadata": {
    "collapsed": false,
    "deletable": true,
    "editable": true
   },
   "outputs": [],
   "source": [
    "# Define the XmL input file\n",
    "reef.load_xml('input-case1.xml')"
   ]
  },
  {
   "cell_type": "markdown",
   "metadata": {
    "deletable": true,
    "editable": true
   },
   "source": [
    "Visualise the initial conditions of your model run can be done using the following command:"
   ]
  },
  {
   "cell_type": "code",
   "execution_count": null,
   "metadata": {
    "collapsed": false,
    "deletable": true,
    "editable": true,
    "scrolled": false
   },
   "outputs": [],
   "source": [
    "reef.core.initialSetting(size=(10,4), fname='input')"
   ]
  },
  {
   "cell_type": "markdown",
   "metadata": {
    "deletable": true,
    "editable": true
   },
   "source": [
    "# Model simulation\n",
    "\n",
    "The core of the code consist in solving the system of ODEs from the **GLV** equations using the **RKF** method.\n",
    "\n",
    "Once a community association population is resolved, carbonate production is calculated using a carbonate production factor. Production factors are specified for the maximum population, and linearly scaled to the actual population.\n",
    "\n",
    "To run the model for a given time period [years], the following function needs to be called:"
   ]
  },
  {
   "cell_type": "code",
   "execution_count": null,
   "metadata": {
    "collapsed": false,
    "deletable": true,
    "editable": true
   },
   "outputs": [],
   "source": [
    "reef.run_to_time(-1500,showtime=500.,verbose=False)"
   ]
  },
  {
   "cell_type": "markdown",
   "metadata": {
    "deletable": true,
    "editable": true
   },
   "source": [
    "# Results\n",
    "\n",
    "All the output from the model run can be plotted on the notebook using a series of internal functions presented below.\n",
    "\n",
    "First one can specify a colormap to use for the plot using one of the matplotlib predefined colormap proposed here: \n",
    "- [colormaps_reference](http://matplotlib.org/examples/color/colormaps_reference.html)"
   ]
  },
  {
   "cell_type": "code",
   "execution_count": null,
   "metadata": {
    "collapsed": false,
    "deletable": true,
    "editable": true
   },
   "outputs": [],
   "source": [
    "from matplotlib.cm import terrain, plasma\n",
    "\n",
    "nbcolors = len(reef.core.coralH)+10\n",
    "#colors = cmo.cm.dense(np.linspace(0, 4, nbcolors))\n",
    "colors = terrain(np.linspace(0, 1, nbcolors))\n",
    "\n",
    "nbcolors = len(reef.core.layTime)+3\n",
    "colors2 = cmo.cm.balance(np.linspace(0, 1, nbcolors))"
   ]
  },
  {
   "cell_type": "markdown",
   "metadata": {
    "deletable": true,
    "editable": true
   },
   "source": [
    "## Communities population evolution\n",
    "\n",
    "- with time: `reef.plot.speciesTime`\n",
    "- with depth: `reef.plot.speciesDepth`"
   ]
  },
  {
   "cell_type": "code",
   "execution_count": null,
   "metadata": {
    "collapsed": false,
    "deletable": true,
    "editable": true,
    "scrolled": false
   },
   "outputs": [],
   "source": [
    "reef.plot.speciesTime(colors=colors, size=(10,4), font=8, dpi=100,fname='apop_t.pdf')\n",
    "reef.plot.speciesDepth(colors=colors, size=(10,4), font=8, dpi=100, fname ='apop_d.pdf')\n",
    "reef.plot.accomodationTime(size=(10,4), font=8, dpi=100, fname ='acc_t.pdf')"
   ]
  },
  {
   "cell_type": "markdown",
   "metadata": {
    "deletable": true,
    "editable": true
   },
   "source": [
    "## Coral synthetic core\n",
    "\n",
    "The main output of the model consists in the synthetic core which shows the evolution of the coral stratigraphic architecture obtained from the interactions among species and with their environment. The plot is obtained using the following function: \n",
    "- `reef.plot.drawCore`\n",
    "\n",
    "The user has the option to save: \n",
    "- the figure using the `figname` parameter (`figname` could either have a _.png_ or _.pdf_ extension)\n",
    "- the model output as a _CSV_ file using the `filename` parameter. This will dump all output dataset for further analysis if required."
   ]
  },
  {
   "cell_type": "code",
   "execution_count": null,
   "metadata": {
    "collapsed": false,
    "deletable": true,
    "editable": true,
    "scrolled": false
   },
   "outputs": [],
   "source": [
    "reef.plot.drawCore(lwidth = 3, colsed=colors, coltime = colors2, size=(10,8), font=8, dpi=380, \n",
    "                   figname=('core.pdf'), filename='core.csv', sep='\\t')"
   ]
  },
  {
   "cell_type": "code",
   "execution_count": null,
   "metadata": {
    "collapsed": true,
    "deletable": true,
    "editable": true
   },
   "outputs": [],
   "source": []
  },
  {
   "cell_type": "code",
   "execution_count": null,
   "metadata": {
    "collapsed": true
   },
   "outputs": [],
   "source": []
  }
 ],
 "metadata": {
  "kernelspec": {
   "display_name": "Python 2",
   "language": "python",
   "name": "python2"
  },
  "language_info": {
   "codemirror_mode": {
    "name": "ipython",
    "version": 2
   },
   "file_extension": ".py",
   "mimetype": "text/x-python",
   "name": "python",
   "nbconvert_exporter": "python",
   "pygments_lexer": "ipython2",
   "version": "2.7.6"
  }
 },
 "nbformat": 4,
 "nbformat_minor": 1
}
