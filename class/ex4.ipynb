{
 "cells": [
  {
   "cell_type": "markdown",
   "metadata": {
    "deletable": true,
    "editable": true,
    "slideshow": {
     "slide_type": "slide"
    }
   },
   "source": [
    "# Introduction to discretisation"
   ]
  },
  {
   "cell_type": "markdown",
   "metadata": {
    "deletable": true,
    "editable": true
   },
   "source": [
    "In coastal modeling, almost all the equations that describe the physical processes have to be solved numerically.  Discretisation is the name given to the processes and protocols that we use to convert these continuous equations into a form that can be used to calculate numerical solutions. "
   ]
  },
  {
   "cell_type": "markdown",
   "metadata": {
    "deletable": true,
    "editable": true
   },
   "source": [
    "<div class=\"alert alert-block alert-info\">\n",
    "Using a simple 1D equation, we will use Euler discretisation methods and 1st-order Taylor series expansion and look at how they perform and the computational errors that might be associated with their resolution.\n",
    "</div>\n",
    "\n",
    "***\n",
    "\n",
    "**Content:**\n",
    "- [Problem 1](#problem)\n",
    "- [Implementation in Python](#pylaws)\n",
    "- [Problem 2](#problem2)\n",
    "- [Implementation in Python 2](#pylaws2)\n",
    "\n",
    "***"
   ]
  },
  {
   "cell_type": "markdown",
   "metadata": {
    "deletable": true,
    "editable": true
   },
   "source": [
    "## <a name=\"problem\"></a>  Problem 1\n",
    "\n",
    "Suppose we want to model the motion of a free falling object. For specificity, let' s say an object is traveling along the $x$ direction with a speed of 10 m/s, we would write its position vector as :\n",
    "$$ x(t) = x_0 + 10\\times t$$\n",
    "\n",
    "where $x_0$ is the position of the particle at time $t=0$. It is trivial to plot this motion, or to compute $x(t)$ for any time $t$. But let's see how we would discretise this very simple equation. Discretisation means we consider the motion to occur in discrete packets, and we seek to model a way of describing where the position of the particle at the $n^{th}$ position.\n",
    "\n",
    "This procedure mimics the way you take data in a laboratory; you can't, despite your best intentions, take data at every possible value of time or position; rather, you take data at specific points or moments in time.\n",
    "\n",
    "We approach the problem with this sort of reasoning: \n",
    "\n",
    "<blockquote>\n",
    "if the particle' s current position is $x[n]$, then in the next time frame, it will be at position $x[n + 1]$. These two positions are related by the motion of the particle between the two times, so we can write :<br\\>\n",
    "\n",
    "$\\,\\,\\,\\,\\,\\,\\,\\,\\,\\,(n+1)^{st}$ position = $(n)^{st}$ position + motion of particle between $x[n]$  and $x[n+1]$\n",
    "</blockquote>\n",
    "\n",
    "We know that the particle will travel a distance of 10 $\\Delta t$ for a time interval of $\\Delta t$, so that we can write:\n",
    "\n",
    "<blockquote>\n",
    "$$x[n + 1] = x[n]+10 \\times \\Delta t \\,\\,\\, (\\textrm{eq.}\\,1)$$\n",
    "</blockquote>\n",
    "\n",
    "Equivalently, this can be written as\n",
    "\n",
    "<blockquote>\n",
    "$$x[n] = x[n-1]+10 \\times \\Delta t \\,\\,\\, (\\textrm{eq.}\\,2)$$\n",
    "</blockquote>\n",
    "\n",
    "Meaning the current position is equal to the last position plus motion since the last position.\n",
    "\n",
    "And with this formulation, we can determine the position of the particle at any time $t$.\n",
    "\n",
    "*** \n",
    "\n",
    "### Taylor series expansion\n",
    "\n",
    "A one-dimensional Taylor series is an expansion of a real function f(x) about $a$ point  $x=a$ and is given by\n",
    "\n",
    "$$ f(t_k) = f(t_{k-1}) + \\frac{\\partial f(t_{k-1})}{\\partial t} (t_k-t_{k-1}) + \\frac{\\partial^2 f(t_{k-1})}{\\partial^2 t} (t_k-t_{k-1})^2 + ...$$\n",
    "\n",
    "The Euler’s Method consists in truncating the Taylor series at the first term.\n",
    "\n",
    "In our example, we can write the object position in a similar form at order one: \n",
    "\n",
    "$$x[t_n]=x[t_{n-1}] + \\frac{\\partial x[t_{n-1}]}{\\partial t} (t_n-t_{n-1}) = x[t_{n-1}] + v[t_{n-1}] (t_n-t_{n-1})$$"
   ]
  },
  {
   "cell_type": "markdown",
   "metadata": {
    "deletable": true,
    "editable": true,
    "slideshow": {
     "slide_type": "slide"
    }
   },
   "source": [
    "## <a name=\"pylaws\"></a>  Implementation in Python"
   ]
  },
  {
   "cell_type": "code",
   "execution_count": null,
   "metadata": {
    "collapsed": false,
    "deletable": true,
    "editable": true,
    "slideshow": {
     "slide_type": "-"
    }
   },
   "outputs": [],
   "source": [
    "import numpy as np\n",
    "import matplotlib.pyplot as plt\n",
    "\n",
    "%matplotlib inline\n",
    "%config InlineBackend.figure_format = 'svg'\n",
    "plt.rcParams['mathtext.fontset'] = 'cm'"
   ]
  },
  {
   "cell_type": "markdown",
   "metadata": {
    "deletable": true,
    "editable": true
   },
   "source": [
    "First we define the parameters."
   ]
  },
  {
   "cell_type": "code",
   "execution_count": null,
   "metadata": {
    "collapsed": true,
    "deletable": true,
    "editable": true
   },
   "outputs": [],
   "source": [
    "# Speed m/s\n",
    "v = 10.\n",
    "# Time step s\n",
    "dt = 0.1\n",
    "# Position of the particle at time t=0\n",
    "x0 = 0.\n",
    "# Range of n values representing the discretisation of the object position\n",
    "kk = np.arange(0,50,1)\n",
    "# Initialisation of the particle position vector\n",
    "x = np.zeros(50,dtype=float)"
   ]
  },
  {
   "cell_type": "markdown",
   "metadata": {
    "deletable": true,
    "editable": true
   },
   "source": [
    "Now we compute the position for all discretised values based on equation (eq. 2):"
   ]
  },
  {
   "cell_type": "code",
   "execution_count": null,
   "metadata": {
    "collapsed": false,
    "deletable": true,
    "editable": true
   },
   "outputs": [],
   "source": [
    "x[0] = x0\n",
    "\n",
    "for k in range(1,50):\n",
    "    x[k] = x[k-1]+v*dt\n",
    "\n",
    "print 'Position at n=10: ',x[10]"
   ]
  },
  {
   "cell_type": "markdown",
   "metadata": {
    "deletable": true,
    "editable": true
   },
   "source": [
    "We can plot the data like this:"
   ]
  },
  {
   "cell_type": "code",
   "execution_count": null,
   "metadata": {
    "collapsed": false,
    "deletable": true,
    "editable": true
   },
   "outputs": [],
   "source": [
    "plt.figure(figsize=(7,6))\n",
    "\n",
    "plt.plot(kk, x,'o',markerfacecolor=[0.22, 0.45, 0.7], markersize=4)\n",
    "plt.xlabel('Particle position number n')\n",
    "plt.ylabel('Particle position [m]')\n",
    "\n",
    "plt.show()\n",
    "plt.close()"
   ]
  },
  {
   "cell_type": "markdown",
   "metadata": {
    "deletable": true,
    "editable": true
   },
   "source": [
    "<div class=\"alert alert-block alert-info\">Does $n$ exactly represent time, or is $n$ merely related to time (or is $n$ completely unrelated to the passage of time?)?</div>"
   ]
  },
  {
   "cell_type": "markdown",
   "metadata": {
    "deletable": true,
    "editable": true
   },
   "source": [
    "***\n",
    "\n",
    "## <a name=\"problem2\"></a>  Problem 2"
   ]
  },
  {
   "cell_type": "markdown",
   "metadata": {
    "deletable": true,
    "editable": true
   },
   "source": [
    "Suppose now we want to analyze a situation where the velocity is not constant, for instance in the case of an object falling in the earth' s gravitational field under the force of gravity (free fall). \n",
    "\n",
    "The object will have an acceleration a equal to $g$:\n",
    "\n",
    "$$ a(t) = \\frac{\\partial v}{\\partial t} = g$$\n",
    "\n",
    "Integration of the acceleration gives us the velocity:\n",
    "\n",
    "$$v(t) = \\int a(t) $$\n",
    "\n",
    "Consequently the velocity increases linearly with time of flight, or in equation form : \n",
    "$$ v(t) = g t$$ \n",
    "where we will assume the downward direction is positive and the initial velocity is 0. \n",
    "\n",
    "Or equation 2 now is defined by:\n",
    "\n",
    "$$ x[n]=x[n−1]+v[n-1] \\times \\Delta t $$\n",
    "\n",
    "with \n",
    "\n",
    "$$ v[n] = v[n-1] + g \\times \\Delta t $$\n",
    "\n",
    "Let' s consider the following code \n",
    "\n",
    "## <a name=\"pylaws2\"></a>  Implementation in Python 2"
   ]
  },
  {
   "cell_type": "code",
   "execution_count": null,
   "metadata": {
    "collapsed": true,
    "deletable": true,
    "editable": true
   },
   "outputs": [],
   "source": [
    "# Gravitational acceleration m/s-2\n",
    "g = 9.8\n",
    "# Time step s\n",
    "dt = 0.01\n",
    "# Position of the particle at time t=0\n",
    "x0 = 0.\n",
    "# Velocity of the particle at time t=0\n",
    "v0 = 0.\n",
    "# Range of n values representing the discretisation of the object position\n",
    "kk = np.arange(0,501,1)\n",
    "# Initialisation of the particle position vector\n",
    "x = np.zeros(501,dtype=float)\n",
    "# Initialisation of the particle velocity vector\n",
    "v = np.zeros(501,dtype=float)"
   ]
  },
  {
   "cell_type": "markdown",
   "metadata": {
    "deletable": true,
    "editable": true
   },
   "source": [
    "Now we compute the system of equations:"
   ]
  },
  {
   "cell_type": "code",
   "execution_count": null,
   "metadata": {
    "collapsed": false,
    "deletable": true,
    "editable": true
   },
   "outputs": [],
   "source": [
    "v[0] = v0\n",
    "x[0] = x0\n",
    "\n",
    "for k in range(1,501):\n",
    "    v[k] = v[k-1]+g*dt\n",
    "    x[k] = x[k-1]+v[k-1]*dt"
   ]
  },
  {
   "cell_type": "code",
   "execution_count": null,
   "metadata": {
    "collapsed": false,
    "deletable": true,
    "editable": true
   },
   "outputs": [],
   "source": [
    "plt.figure(figsize=(7,6))\n",
    "\n",
    "plt.plot(kk, x,'o',markerfacecolor=[0.22, 0.45, 0.7], markersize=4)\n",
    "plt.xlabel('Particle position number n')\n",
    "plt.ylabel('Particle position [m]')\n",
    "\n",
    "plt.show()\n",
    "plt.close()"
   ]
  },
  {
   "cell_type": "markdown",
   "metadata": {
    "deletable": true,
    "editable": true
   },
   "source": [
    "<div class=\"alert alert-block alert-info\">For the input values, what is the time interval described in the plot above? Let' s see how our discrete model compares with the solution we expect?</div>"
   ]
  },
  {
   "cell_type": "markdown",
   "metadata": {
    "deletable": true,
    "editable": true
   },
   "source": [
    "Integration of the velocity $v(t) = v0 + g\\times t$ gives the following function for the object position:\n",
    "\n",
    "$$x(t)= v0 \\times t + \\frac{1}{2} \\times g \\times t^2$$\n",
    "\n",
    "with $v0$ set to 0. it comes to:\n",
    "\n",
    "$$x(t) = \\frac{1}{2} \\times g \\times t^2$$\n",
    "\n",
    "at the end of the experiment we have a time $te = n \\times dt$"
   ]
  },
  {
   "cell_type": "code",
   "execution_count": null,
   "metadata": {
    "collapsed": false,
    "deletable": true,
    "editable": true
   },
   "outputs": [],
   "source": [
    "print 'end time: ',500*dt\n",
    "print 'exact solution: ',0.5*g*(500*dt)**2\n",
    "print 'model solution: ',x[-1]\n",
    "print 'ratio exact/model: ',0.5*g*(500*dt)**2/x[-1]"
   ]
  },
  {
   "cell_type": "markdown",
   "metadata": {
    "deletable": true,
    "editable": true
   },
   "source": [
    "<div class=\"alert alert-block alert-info\">Pretty close but not exact. **Our two answers are off by 0.2 %**. What might be causing even this small amount of error?</div>"
   ]
  },
  {
   "cell_type": "markdown",
   "metadata": {
    "deletable": true,
    "editable": true
   },
   "source": [
    "Let' s see what happens if we amend the code slightly :"
   ]
  },
  {
   "cell_type": "code",
   "execution_count": null,
   "metadata": {
    "collapsed": true,
    "deletable": true,
    "editable": true
   },
   "outputs": [],
   "source": [
    "v[0] = v0\n",
    "x[0] = x0\n",
    "\n",
    "for k in range(1,501):\n",
    "    v[k] = v[k-1]+g*dt\n",
    "    x[k] = x[k-1]+0.5*(v[k]+v[k-1])*dt"
   ]
  },
  {
   "cell_type": "code",
   "execution_count": null,
   "metadata": {
    "collapsed": false,
    "deletable": true,
    "editable": true
   },
   "outputs": [],
   "source": [
    "plt.figure(figsize=(7,6))\n",
    "\n",
    "plt.plot(kk, x,'o',markerfacecolor=[0.22, 0.45, 0.7], markersize=4)\n",
    "plt.xlabel('Particle position number n')\n",
    "plt.ylabel('Particle position [m]')\n",
    "\n",
    "plt.show()\n",
    "plt.close()"
   ]
  },
  {
   "cell_type": "code",
   "execution_count": null,
   "metadata": {
    "collapsed": false,
    "deletable": true,
    "editable": true
   },
   "outputs": [],
   "source": [
    "print 'end time: ',500*dt\n",
    "print 'exact solution: ',0.5*g*(500*dt)**2\n",
    "print 'model solution: ',x[-1]\n",
    "print 'ratio exact/model: ',0.5*g*(500*dt)**2/x[-1]"
   ]
  },
  {
   "cell_type": "markdown",
   "metadata": {
    "deletable": true,
    "editable": true,
    "slideshow": {
     "slide_type": "subslide"
    }
   },
   "source": [
    "<div class=\"alert alert-block alert-info\">What did we do that was different, how else might we have reduced our error?</div>"
   ]
  },
  {
   "cell_type": "code",
   "execution_count": null,
   "metadata": {
    "collapsed": true,
    "deletable": true,
    "editable": true
   },
   "outputs": [],
   "source": []
  }
 ],
 "metadata": {
  "kernelspec": {
   "display_name": "Python 2",
   "language": "python",
   "name": "python2"
  },
  "language_info": {
   "codemirror_mode": {
    "name": "ipython",
    "version": 2
   },
   "file_extension": ".py",
   "mimetype": "text/x-python",
   "name": "python",
   "nbconvert_exporter": "python",
   "pygments_lexer": "ipython2",
   "version": "2.7.6"
  }
 },
 "nbformat": 4,
 "nbformat_minor": 1
}
