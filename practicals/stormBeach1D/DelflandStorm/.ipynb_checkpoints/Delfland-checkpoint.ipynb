{
 "cells": [
  {
   "cell_type": "markdown",
   "metadata": {},
   "source": [
    "# XBeach profile evolution\n",
    "\n",
    "Once your model finished running, it is time to have a look at the model netCDF outputs. XBeach generates a single NC file with all data in it. \n",
    "\n",
    "First we need to load the IPython libraries:"
   ]
  },
  {
   "cell_type": "code",
   "execution_count": null,
   "metadata": {
    "collapsed": false
   },
   "outputs": [],
   "source": [
    "%pylab inline\n",
    "%matplotlib inline\n",
    "import netCDF4\n",
    "import numpy as np\n",
    "import matplotlib.pyplot as plt\n",
    "from matplotlib import animation\n",
    "from JSAnimation import IPython_display"
   ]
  },
  {
   "cell_type": "markdown",
   "metadata": {},
   "source": [
    "# Running XBeach\n",
    "\n",
    "To run **XBeach**, we need to go into the folder containing the input file `params.txt`. \n",
    "\n",
    "In this first example this is the folder `default`. We use the `!` to tell IPython that we want to execute the code in `bash` mode. Similar to running it from a linux terminal."
   ]
  },
  {
   "cell_type": "code",
   "execution_count": null,
   "metadata": {
    "collapsed": false
   },
   "outputs": [],
   "source": [
    "!pwd"
   ]
  },
  {
   "cell_type": "code",
   "execution_count": null,
   "metadata": {
    "collapsed": false
   },
   "outputs": [],
   "source": [
    "!xbeach"
   ]
  },
  {
   "cell_type": "markdown",
   "metadata": {},
   "source": [
    "# Loading XBeach output\n",
    "\n",
    "The netcdf file is located in the same location as your input files, we use the IPython netCDF4 functionality to load the data file. Using the `variables.keys()`, we can see all the parameters outputed by XBeach"
   ]
  },
  {
   "cell_type": "code",
   "execution_count": null,
   "metadata": {
    "collapsed": false
   },
   "outputs": [],
   "source": [
    "nc_data = netCDF4.Dataset('xboutput.nc')\n",
    "print nc_data.variables.keys()"
   ]
  },
  {
   "cell_type": "markdown",
   "metadata": {},
   "source": [
    "To query the type/definition of each of the `netcdf` keys we can do:"
   ]
  },
  {
   "cell_type": "code",
   "execution_count": null,
   "metadata": {
    "collapsed": false
   },
   "outputs": [],
   "source": [
    "nc_data.variables['H']"
   ]
  },
  {
   "cell_type": "markdown",
   "metadata": {},
   "source": [
    "# Get visualisation parameters"
   ]
  },
  {
   "cell_type": "code",
   "execution_count": null,
   "metadata": {
    "collapsed": false
   },
   "outputs": [],
   "source": [
    "# Export the stored time values\n",
    "times = nc_data.variables['globaltime'][:]\n",
    "\n",
    "# Export the X-axis values of the profile\n",
    "xprofile = nc_data.variables['globalx'][0,:]\n",
    "\n",
    "# Export the bed elevation\n",
    "bed_elev = nc_data.variables['zb'][:,0,:]\n",
    "\n",
    "# Export the wave height\n",
    "wave_height = nc_data.variables['H'][:,0,:]\n",
    "\n",
    "# Export the water level\n",
    "water_lvl = nc_data.variables['zs'][:,0,:]"
   ]
  },
  {
   "cell_type": "markdown",
   "metadata": {},
   "source": [
    "## Check parameters shape\n",
    "\n",
    "The shape of an array gives us the dimension of the dataset we are looking at:"
   ]
  },
  {
   "cell_type": "code",
   "execution_count": null,
   "metadata": {
    "collapsed": false
   },
   "outputs": [],
   "source": [
    "print 'shape time values: ',times.shape\n",
    "print 'shape X-axis profile: ',xprofile.shape\n",
    "print 'shape bed elevation: ',bed_elev.shape\n",
    "print 'shape wave height: ',wave_height.shape\n",
    "print 'shape water level: ',water_lvl.shape"
   ]
  },
  {
   "cell_type": "markdown",
   "metadata": {},
   "source": [
    "# Plotting XBeach model at a given time\n",
    "\n",
    "To plot the model result for a given time we can define a function that will handle the process automatically. To define a function in IPython we use the following keyword: `def`"
   ]
  },
  {
   "cell_type": "code",
   "execution_count": null,
   "metadata": {
    "collapsed": false
   },
   "outputs": [],
   "source": [
    "# FID is the frame ID: an integer defining the time step we want to plot\n",
    "def xbeach_frame(FID):\n",
    "    \n",
    "    # Set figure size\n",
    "    fig, ax1 = plt.subplots(figsize=(10,5), dpi=80) \n",
    "    axes = plt.gca()\n",
    "    \n",
    "    # Set extend of computational domain\n",
    "    axes.set_xlim([0,int(xprofile.max())])\n",
    "    axes.set_ylim([-25,20])\n",
    "\n",
    "    # Define the base of the model\n",
    "    base = np.zeros(len(xprofile[:]))\n",
    "    base.fill(-25)\n",
    "    \n",
    "    # Define bed elevation for given frame ID\n",
    "    bed = bed_elev[FID,:]\n",
    "    ax1.plot(xprofile[:],bed,linewidth=2.0,color=[139./255.,131./255.,120./255.])\n",
    "    ax1.fill_between(xprofile[:], base, bed, where=bed >= base, facecolor=[1.0,0.9,0.6], interpolate=True)\n",
    "\n",
    "    # Define top water surface  \n",
    "    sea = water_lvl[FID,:] + wave_height[FID,:]\n",
    "    ax1.plot(xprofile[:],sea,linewidth=2.0,color=[0./255.,0./255.,128./255.])\n",
    "    ax1.fill_between(xprofile[:], bed, sea, where= sea > bed, facecolor=[0.7,0.9,1.0], interpolate=True)\n",
    "\n",
    "    # Axes definitions\n",
    "    tlt='XBeach model time:'+str(int(times[FID]))+' s'\n",
    "    plt.title(tlt, fontsize=12)\n",
    "    ax1.set_ylabel('elevation [m]', fontsize=12)\n",
    "    ax1.set_xlabel('lenght [m]', fontsize=12)\n",
    "    plt.setp(ax1.get_xticklabels(), fontsize=10)\n",
    "    plt.setp(ax1.get_yticklabels(), fontsize=10)\n",
    "    \n",
    "    # Set legend\n",
    "    names=['zb','H+zs']\n",
    "    ax1.legend(names,loc='lower right', fontsize=11)\n",
    "    plt.show()"
   ]
  },
  {
   "cell_type": "markdown",
   "metadata": {},
   "source": [
    "Now we can simply call the function above for different time steps:"
   ]
  },
  {
   "cell_type": "code",
   "execution_count": null,
   "metadata": {
    "collapsed": false
   },
   "outputs": [],
   "source": [
    "xbeach_frame(150)\n",
    "xbeach_frame(1111)"
   ]
  },
  {
   "cell_type": "markdown",
   "metadata": {},
   "source": [
    "# Making an animation of the results\n",
    "\n",
    "To visualise an animation of the water and profile evolution over the duration of the model we can use the following cell"
   ]
  },
  {
   "cell_type": "code",
   "execution_count": null,
   "metadata": {
    "collapsed": false
   },
   "outputs": [],
   "source": [
    "fig = plt.figure(figsize=(10,5))\n",
    "ax = plt.axes(xlim=(0, int(xprofile.max())), ylim=(-25, 20))\n",
    "plt.title('XBeach model run', fontsize=12)\n",
    "ax.set_ylabel('elevation [m]', fontsize=12)\n",
    "ax.set_xlabel('lenght [m]', fontsize=12)\n",
    "plt.setp(ax.get_xticklabels(), fontsize=10)\n",
    "plt.setp(ax.get_yticklabels(), fontsize=10)\n",
    "    \n",
    "name = ['initial zb','zb','H+zs']\n",
    "\n",
    "ax.plot(xprofile[:],bed_elev[0,:],'--', lw=1,color='k')\n",
    "\n",
    "line1, = ax.plot([], [], lw=2,color=[139./255.,131./255.,120./255.] )\n",
    "line2, = ax.plot([], [], lw=2,color=[0./255.,0./255.,128./255.])\n",
    "\n",
    "# Initialization function: plot the background of each frame\n",
    "def init():\n",
    "    line1.set_data([], [])\n",
    "    line2.set_data([], [])\n",
    "    return line1,line2, \n",
    "\n",
    "base = -25.\n",
    "top = np.zeros(len(xprofile[:]))\n",
    "top.fill(20.)\n",
    "\n",
    "# Animation function.  This is called sequentially\n",
    "def animate(i):\n",
    "    x = xprofile[:]\n",
    "    f1 = bed_elev[i,:]\n",
    "    sea = wave_height[i,:]+water_lvl[i,:]\n",
    "    f2 = sea\n",
    "    line1.set_data(x, f1)\n",
    "    line2.set_data(x, f2)\n",
    "    ax.fill_between(x, base, top, where= top > base, facecolor=[1.,1.,1.], interpolate=True)\n",
    "    ax.fill_between(x, base, f1, where=f1 >= base, facecolor=[1.0,0.9,0.6], interpolate=True)\n",
    "    ax.fill_between(x, f1, f2, where= f2 > f1, facecolor=[0.7,0.9,1.0], interpolate=True)\n",
    "    ax.legend(name,loc='lower right', fontsize=9)\n",
    "    return line1,line2 \n",
    "\n",
    "# Call the animator.  blit=True means only re-draw the parts that have changed.\n",
    "animation.FuncAnimation(fig, animate, init_func=init, frames=np.arange(0, times.shape[0]-1, 20), interval=100, blit=True)"
   ]
  },
  {
   "cell_type": "markdown",
   "metadata": {},
   "source": [
    "# Analyze results\n",
    "\n",
    "What we did so far is setting-up and running a simple model and visualizing the results. The visualization was limited to a plain representation of the model output. Often, it is necessary to obtain insight in the overall characteristics of the model results in wave propagation and erosion progression in terms of volumes or retreat distances. The following section describes a few simple tools to extract these characteristics from the model output.\n",
    "\n",
    "\n",
    "# Beach profile\n",
    "\n",
    "From the animation above we can see that some erosion/deposition is happening around the 2700 m mark. We will take a closer look at what is happening first"
   ]
  },
  {
   "cell_type": "code",
   "execution_count": null,
   "metadata": {
    "collapsed": false
   },
   "outputs": [],
   "source": [
    "# FID is the frame ID: an integer defining the time step we want to plot\n",
    "def profile_frame(FID):\n",
    "    \n",
    "    names=[]\n",
    "    \n",
    "    # Number of profile to plot (start at 0)\n",
    "    nbframe = len(FID)-1\n",
    "    \n",
    "    # Set figure size\n",
    "    fig, ax1 = plt.subplots(figsize=(15,7), dpi=80) \n",
    "    axes = plt.gca()\n",
    "    \n",
    "    # Set extend of visualisation domain\n",
    "    axes.set_xlim([1000,1400])\n",
    "    axes.set_ylim([-7,12])\n",
    "\n",
    "    # Define the base of the model\n",
    "    base = np.zeros(len(xprofile[:]))\n",
    "    base.fill(-25)\n",
    "  \n",
    "    # Define bed elevation for given frame ID\n",
    "    for i in range(nbframe+1):\n",
    "        bed = bed_elev[FID[i],:]\n",
    "        if i == 0:\n",
    "            ax1.plot(xprofile[:],bed,'--',linewidth=2.0,color='k')\n",
    "            names.append('initial bed at '+str(int(times[FID[i]]))+'s')\n",
    "        elif i<nbframe:\n",
    "            ax1.plot(xprofile[:],bed,'--',linewidth=1.0,color='k')\n",
    "            names.append('bed at time '+str(int(times[FID[i]]))+'s')\n",
    "        else:\n",
    "            ax1.plot(xprofile[:],bed,linewidth=2.0,color='k')\n",
    "            names.append('final bed at '+str(int(times[FID[i]]))+'s')\n",
    "            sea = water_lvl[FID[i],:]\n",
    "            ax1.plot(xprofile[:],sea,linewidth=2.0,color=[0./255.,0./255.,128./255.])\n",
    "            names.append('water level at '+str(int(times[FID[i]]))+'s')\n",
    "            ax1.fill_between(xprofile[:], bed, sea, where= sea > bed, facecolor=[0.7,0.9,1.0], interpolate=True)\n",
    "    \n",
    "    ax1.fill_between(xprofile[:], base, bed, where=bed >= base, facecolor=[1.0,0.9,0.6], interpolate=True)\n",
    "\n",
    "    # Axes definitions\n",
    "    tlt='Zoom of profile evolution through time close to the shoreline'\n",
    "    plt.title(tlt, fontsize=12)\n",
    "    ax1.set_ylabel('elevation [m]', fontsize=12)\n",
    "    ax1.set_xlabel('lenght [m]', fontsize=12)\n",
    "    plt.setp(ax1.get_xticklabels(), fontsize=10)\n",
    "    plt.setp(ax1.get_yticklabels(), fontsize=10)\n",
    "    \n",
    "    # Set legend\n",
    "    ax1.legend(names,loc='lower right', fontsize=11)\n",
    "    plt.show()"
   ]
  },
  {
   "cell_type": "code",
   "execution_count": null,
   "metadata": {
    "collapsed": false
   },
   "outputs": [],
   "source": [
    "profile_frame([0,600,1111])"
   ]
  },
  {
   "cell_type": "code",
   "execution_count": null,
   "metadata": {
    "collapsed": true
   },
   "outputs": [],
   "source": []
  }
 ],
 "metadata": {
  "kernelspec": {
   "display_name": "Python 2",
   "language": "python",
   "name": "python2"
  },
  "language_info": {
   "codemirror_mode": {
    "name": "ipython",
    "version": 2
   },
   "file_extension": ".py",
   "mimetype": "text/x-python",
   "name": "python",
   "nbconvert_exporter": "python",
   "pygments_lexer": "ipython2",
   "version": "2.7.9"
  }
 },
 "nbformat": 4,
 "nbformat_minor": 0
}
