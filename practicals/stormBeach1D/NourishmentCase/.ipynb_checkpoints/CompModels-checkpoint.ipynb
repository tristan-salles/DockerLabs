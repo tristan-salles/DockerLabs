{
 "cells": [
  {
   "cell_type": "markdown",
   "metadata": {},
   "source": [
    "# XBeach profiles comparisons between scenarios\n",
    "\n",
    "First we need to load the IPython libraries:"
   ]
  },
  {
   "cell_type": "code",
   "execution_count": null,
   "metadata": {
    "collapsed": false
   },
   "outputs": [],
   "source": [
    "%pylab inline\n",
    "%matplotlib inline\n",
    "import netCDF4\n",
    "import numpy as np\n",
    "import matplotlib.pyplot as plt\n",
    "from scipy.interpolate import interp1d"
   ]
  },
  {
   "cell_type": "markdown",
   "metadata": {},
   "source": [
    "# Loading XBeach output for each scenario\n",
    "\n",
    "The netcdf file is located in the same location as your input files, we use the IPython netCDF4 functionality to load the data file. Using the `variables.keys()`, we can see all the parameters outputed by XBeach"
   ]
  },
  {
   "cell_type": "code",
   "execution_count": null,
   "metadata": {
    "collapsed": false
   },
   "outputs": [],
   "source": [
    "ref_data = netCDF4.Dataset('reference/xboutput.nc')\n",
    "shore_data = netCDF4.Dataset('shoreface/xboutput.nc')\n",
    "beach_data = netCDF4.Dataset('beach/xboutput.nc')\n",
    "banquette_data = netCDF4.Dataset('banquette/xboutput.nc')"
   ]
  },
  {
   "cell_type": "markdown",
   "metadata": {},
   "source": [
    "# Get scenarios main output for comparisons"
   ]
  },
  {
   "cell_type": "code",
   "execution_count": null,
   "metadata": {
    "collapsed": false
   },
   "outputs": [],
   "source": [
    "# Export the stored time values\n",
    "times = ref_data.variables['globaltime'][:]\n",
    "\n",
    "# Export the X-axis values of the profile\n",
    "refX = ref_data.variables['globalx'][0,:]\n",
    "shoreX = shore_data.variables['globalx'][0,:]\n",
    "beachX = beach_data.variables['globalx'][0,:]\n",
    "banquetteX = banquette_data.variables['globalx'][0,:]\n",
    "\n",
    "# Export the bed elevation for each scenario\n",
    "ref_bed = ref_data.variables['zb'][:,0,:]\n",
    "shore_ref = shore_data.variables['zb'][:,0,:]\n",
    "beach_ref = beach_data.variables['zb'][:,0,:]\n",
    "banquette_ref = banquette_data.variables['zb'][:,0,:]"
   ]
  },
  {
   "cell_type": "code",
   "execution_count": null,
   "metadata": {
    "collapsed": true
   },
   "outputs": [],
   "source": [
    "axisX = [refX,shoreX,beachX,banquetteX]\n",
    "bed = [ref_bed,shore_ref,beach_ref,banquette_ref]"
   ]
  },
  {
   "cell_type": "markdown",
   "metadata": {},
   "source": [
    "## Check parameters shape\n",
    "\n",
    "The shape of an array gives us the dimension of the dataset we are looking at:"
   ]
  },
  {
   "cell_type": "code",
   "execution_count": null,
   "metadata": {
    "collapsed": false
   },
   "outputs": [],
   "source": [
    "print 'shape time values: ',times.shape\n",
    "print 'shape X-axis profile reference model: ',refX.shape\n",
    "print 'shape X-axis profile shoreface model: ',shoreX.shape\n",
    "print 'shape X-axis profile beach model: ',beachX.shape\n",
    "print 'shape X-axis profile banquette model: ',banquetteX.shape\n",
    "print 'shape bed elevation reference model: ',ref_bed.shape\n",
    "print 'shape bed elevation shoreface model: ',shore_ref.shape\n",
    "print 'shape bed elevation beach model: ',beach_ref.shape\n",
    "print 'shape bed elevation banquette model: ',banquette_ref.shape"
   ]
  },
  {
   "cell_type": "markdown",
   "metadata": {},
   "source": [
    "# Plotting beach profile at a given time\n",
    "\n",
    "To plot the model result for a given time we can define a function that will handle the process automatically. To define a function in IPython we use the following keyword: `def`"
   ]
  },
  {
   "cell_type": "code",
   "execution_count": null,
   "metadata": {
    "collapsed": false
   },
   "outputs": [],
   "source": [
    "for i in range(4):\n",
    "    #print 'minimum distance:',axisX[i].min()\n",
    "    print 'maximum distance:',axisX[i].max()"
   ]
  },
  {
   "cell_type": "code",
   "execution_count": null,
   "metadata": {
    "collapsed": false
   },
   "outputs": [],
   "source": [
    "def profile_comparison(FID):\n",
    "    \n",
    "    names=[]\n",
    "    \n",
    "    # Number of profile to plot (start at 0)\n",
    "    nbframe = 4\n",
    "    \n",
    "    # Set figure size\n",
    "    fig, ax1 = plt.subplots(figsize=(15,7), dpi=80) \n",
    "    axes = plt.gca()\n",
    "    \n",
    "    # Set extend of visualisation domain\n",
    "    axes.set_xlim([1200,2138])\n",
    "    axes.set_ylim([-12,16])\n",
    "\n",
    "  \n",
    "    # Define bed elevation for given frame ID\n",
    "    for i in range(nbframe):\n",
    "        \n",
    "        # Define the base of the model\n",
    "        base = np.zeros(len(axisX[i]))\n",
    "        base.fill(-12)\n",
    "        bed_data = bed[i][FID,:]\n",
    "        if FID == 0:\n",
    "            ax1.plot(axisX[i][:],bed_data,'--',linewidth=2.0)\n",
    "            names.append('initial bed at '+str(int(times[FID]))+'s for model '+str(i))\n",
    "        else:\n",
    "            ax1.plot(axisX[i][:],bed_data,'--',linewidth=2.0)\n",
    "            names.append('final bed at '+str(int(times[FID]))+'s for model '+str(i))\n",
    "    \n",
    "    # Axes definitions\n",
    "    tlt='Zoom of profile comparisons between the different scenarios'\n",
    "    plt.title(tlt, fontsize=12)\n",
    "    ax1.set_ylabel('elevation [m]', fontsize=12)\n",
    "    ax1.set_xlabel('lenght [m]', fontsize=12)\n",
    "    plt.setp(ax1.get_xticklabels(), fontsize=10)\n",
    "    plt.setp(ax1.get_yticklabels(), fontsize=10)\n",
    "    \n",
    "    # Set legend\n",
    "    ax1.legend(names,loc='upper left', fontsize=11)\n",
    "    plt.show()"
   ]
  },
  {
   "cell_type": "markdown",
   "metadata": {},
   "source": [
    "### Initial condition before storm"
   ]
  },
  {
   "cell_type": "code",
   "execution_count": null,
   "metadata": {
    "collapsed": false
   },
   "outputs": [],
   "source": [
    "profile_comparison(0)"
   ]
  },
  {
   "cell_type": "markdown",
   "metadata": {},
   "source": [
    "### Final condition after storm"
   ]
  },
  {
   "cell_type": "code",
   "execution_count": null,
   "metadata": {
    "collapsed": false
   },
   "outputs": [],
   "source": [
    "profile_comparison(2158)"
   ]
  },
  {
   "cell_type": "markdown",
   "metadata": {},
   "source": [
    "# Comparisons between models\n",
    "\n",
    "First we interpolate the dataset to get the same dimensions for each scenarios variables:"
   ]
  },
  {
   "cell_type": "code",
   "execution_count": null,
   "metadata": {
    "collapsed": false
   },
   "outputs": [],
   "source": [
    "# Define a x-axis vector\n",
    "x = np.linspace(0,2137,150)\n",
    "dx = x[1]-x[0]\n",
    "\n",
    "# Define the initial (bed0) and final (bedf) elevation of the bed on this new x-axis\n",
    "bed0 = []\n",
    "bedf = []\n",
    "for i in range(4):\n",
    "    interpFunc1 = interp1d(axisX[i], bed[i][0,:], kind='cubic')\n",
    "    bed0.append(interpFunc1(x))\n",
    "    interpFunc2 = interp1d(axisX[i], bed[i][-1,:], kind='cubic')\n",
    "    bedf.append(interpFunc2(x))"
   ]
  },
  {
   "cell_type": "markdown",
   "metadata": {},
   "source": [
    "Compute the differences between the models for the initial state:"
   ]
  },
  {
   "cell_type": "code",
   "execution_count": null,
   "metadata": {
    "collapsed": false
   },
   "outputs": [],
   "source": [
    "# Thickness differences\n",
    "th1 = np.sum(bed0[1]-bed0[0])\n",
    "th2 = np.sum(bed0[2]-bed0[0])\n",
    "th3 = np.sum(bed0[3]-bed0[0])\n",
    "\n",
    "# Volume differences [m3/m]\n",
    "vol1 = np.sum((bed0[1]-bed0[0])*dx)\n",
    "vol2 = np.sum((bed0[2]-bed0[0])*dx)\n",
    "vol3 = np.sum((bed0[3]-bed0[0])*dx)"
   ]
  },
  {
   "cell_type": "code",
   "execution_count": null,
   "metadata": {
    "collapsed": false
   },
   "outputs": [],
   "source": [
    "print 'Differences in thickness between models:'\n",
    "print '      - Shoreface against Reference:',th1\n",
    "print '      - Beach against Reference:',th2\n",
    "print '      - Banquette against Reference:',th3\n",
    "print ''\n",
    "print 'Difference in volume [m3/m] between models:'\n",
    "print '      - Shoreface against Reference:',vol1\n",
    "print '      - Beach against Reference:',vol2\n",
    "print '      - Banquette against Reference:',vol3"
   ]
  },
  {
   "cell_type": "code",
   "execution_count": null,
   "metadata": {
    "collapsed": true
   },
   "outputs": [],
   "source": []
  }
 ],
 "metadata": {
  "kernelspec": {
   "display_name": "Python 2",
   "language": "python",
   "name": "python2"
  },
  "language_info": {
   "codemirror_mode": {
    "name": "ipython",
    "version": 2
   },
   "file_extension": ".py",
   "mimetype": "text/x-python",
   "name": "python",
   "nbconvert_exporter": "python",
   "pygments_lexer": "ipython2",
   "version": "2.7.9"
  }
 },
 "nbformat": 4,
 "nbformat_minor": 0
}
