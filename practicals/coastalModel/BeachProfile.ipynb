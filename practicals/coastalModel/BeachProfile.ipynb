{
 "cells": [
  {
   "cell_type": "markdown",
   "metadata": {},
   "source": [
    "# XBeach profile evolution\n",
    "\n",
    "Once your model finished running, it is time to have a look at the model netCDF outputs. XBeach generates a single NC file with all data in it. \n",
    "\n",
    "First we need to load the IPython libraries:"
   ]
  },
  {
   "cell_type": "code",
   "execution_count": null,
   "metadata": {
    "collapsed": false
   },
   "outputs": [],
   "source": [
    "%pylab inline\n",
    "%matplotlib inline\n",
    "import netCDF4\n",
    "import numpy as np\n",
    "import matplotlib.pyplot as plt\n",
    "from matplotlib import animation\n",
    "from JSAnimation import IPython_display"
   ]
  },
  {
   "cell_type": "markdown",
   "metadata": {},
   "source": [
    "# Running XBeach\n",
    "\n",
    "To run **XBeach**, we need to go into the folder containing the input file `params.txt`. \n",
    "\n",
    "In this first example this is the folder `default`. We use the `!` to tell IPython that we want to execute the code in `bash` mode. Similar to running it from a linux terminal."
   ]
  },
  {
   "cell_type": "code",
   "execution_count": null,
   "metadata": {
    "collapsed": false
   },
   "outputs": [],
   "source": [
    "!pwd"
   ]
  },
  {
   "cell_type": "code",
   "execution_count": null,
   "metadata": {
    "collapsed": false
   },
   "outputs": [],
   "source": [
    "!cd default/ ; xbeach"
   ]
  },
  {
   "cell_type": "markdown",
   "metadata": {},
   "source": [
    "# Loading XBeach output\n",
    "\n",
    "The netcdf file is located in the same location as your input files, we use the IPython netCDF4 functionality to load the data file. Using the `variables.keys()`, we can see all the parameters outputed by XBeach"
   ]
  },
  {
   "cell_type": "code",
   "execution_count": null,
   "metadata": {
    "collapsed": false
   },
   "outputs": [],
   "source": [
    "nc_data = netCDF4.Dataset('./default/xboutput.nc')\n",
    "print nc_data.variables.keys()"
   ]
  },
  {
   "cell_type": "markdown",
   "metadata": {},
   "source": [
    "To query the type/definition of each of the `netcdf` keys we can do:"
   ]
  },
  {
   "cell_type": "code",
   "execution_count": null,
   "metadata": {
    "collapsed": false
   },
   "outputs": [],
   "source": [
    "nc_data.variables['H']"
   ]
  },
  {
   "cell_type": "markdown",
   "metadata": {},
   "source": [
    "# Get visualisation parameters"
   ]
  },
  {
   "cell_type": "code",
   "execution_count": null,
   "metadata": {
    "collapsed": false
   },
   "outputs": [],
   "source": [
    "# Export the stored time values\n",
    "times = nc_data.variables['globaltime'][:]\n",
    "\n",
    "# Export the X-axis values of the profile\n",
    "xprofile = nc_data.variables['globalx'][0,:]\n",
    "\n",
    "# Export the bed elevation\n",
    "bed_elev = nc_data.variables['zb'][:,0,:]\n",
    "\n",
    "# Export the wave height\n",
    "wave_height = nc_data.variables['H'][:,0,:]\n",
    "\n",
    "# Export the water level\n",
    "water_lvl = nc_data.variables['zs'][:,0,:]"
   ]
  },
  {
   "cell_type": "markdown",
   "metadata": {},
   "source": [
    "## Check parameters shape\n",
    "\n",
    "The shape of an array gives us the dimension of the dataset we are looking at:"
   ]
  },
  {
   "cell_type": "code",
   "execution_count": null,
   "metadata": {
    "collapsed": false
   },
   "outputs": [],
   "source": [
    "print 'shape time values: ',times.shape\n",
    "print 'shape X-axis profile: ',xprofile.shape\n",
    "print 'shape bed elevation: ',bed_elev.shape\n",
    "print 'shape wave height: ',wave_height.shape\n",
    "print 'shape water level: ',water_lvl.shape"
   ]
  },
  {
   "cell_type": "markdown",
   "metadata": {},
   "source": [
    "# Plotting XBeach model at a given time\n",
    "\n",
    "To plot the model result for a given time we can define a function that will handle the process automatically. To define a function in IPython we use the following keyword: `def`"
   ]
  },
  {
   "cell_type": "code",
   "execution_count": null,
   "metadata": {
    "collapsed": false
   },
   "outputs": [],
   "source": [
    "# FID is the frame ID: an integer defining the time step we want to plot\n",
    "def xbeach_frame(FID):\n",
    "    \n",
    "    # Set figure size\n",
    "    fig, ax1 = plt.subplots(figsize=(10,5), dpi=80) \n",
    "    axes = plt.gca()\n",
    "    \n",
    "    # Set extend of computational domain\n",
    "    axes.set_xlim([0,3000])\n",
    "    axes.set_ylim([-20,20])\n",
    "\n",
    "    # Define the base of the model\n",
    "    base = np.zeros(len(xprofile[:]))\n",
    "    base.fill(-20)\n",
    "    \n",
    "    # Define bed elevation for given frame ID\n",
    "    bed = bed_elev[FID,:]\n",
    "    ax1.plot(xprofile[:],bed,linewidth=2.0,color=[139./255.,131./255.,120./255.])\n",
    "    ax1.fill_between(xprofile[:], base, bed, where=bed >= base, facecolor=[1.0,0.9,0.6], interpolate=True)\n",
    "\n",
    "    # Define top water surface  \n",
    "    sea = water_lvl[FID,:] + wave_height[FID,:]\n",
    "    ax1.plot(xprofile[:],sea,linewidth=2.0,color=[0./255.,0./255.,128./255.])\n",
    "    ax1.fill_between(xprofile[:], bed, sea, where= sea > bed, facecolor=[0.7,0.9,1.0], interpolate=True)\n",
    "\n",
    "    # Axes definitions\n",
    "    tlt='XBeach model time:'+str(int(times[FID]))+' s'\n",
    "    plt.title(tlt, fontsize=12)\n",
    "    ax1.set_ylabel('elevation [m]', fontsize=12)\n",
    "    ax1.set_xlabel('lenght [m]', fontsize=12)\n",
    "    plt.setp(ax1.get_xticklabels(), fontsize=10)\n",
    "    plt.setp(ax1.get_yticklabels(), fontsize=10)\n",
    "    \n",
    "    # Set legend\n",
    "    names=['zb','H+zs']\n",
    "    ax1.legend(names,loc='lower right', fontsize=11)\n",
    "    plt.show()"
   ]
  },
  {
   "cell_type": "markdown",
   "metadata": {},
   "source": [
    "Now we can simply call the function above for different time steps:"
   ]
  },
  {
   "cell_type": "code",
   "execution_count": null,
   "metadata": {
    "collapsed": false
   },
   "outputs": [],
   "source": [
    "xbeach_frame(500)\n",
    "#xbeach_frame(2000)"
   ]
  },
  {
   "cell_type": "markdown",
   "metadata": {},
   "source": [
    "# Making an animation of the results\n",
    "\n",
    "To visualise an animation of the water and profile evolution over the duration of the model we can use the following cell"
   ]
  },
  {
   "cell_type": "code",
   "execution_count": null,
   "metadata": {
    "collapsed": false
   },
   "outputs": [],
   "source": [
    "fig = plt.figure(figsize=(10,5))\n",
    "ax = plt.axes(xlim=(0, 3000), ylim=(-20, 20))\n",
    "plt.title('XBeach model run', fontsize=12)\n",
    "ax.set_ylabel('elevation [m]', fontsize=12)\n",
    "ax.set_xlabel('lenght [m]', fontsize=12)\n",
    "plt.setp(ax.get_xticklabels(), fontsize=10)\n",
    "plt.setp(ax.get_yticklabels(), fontsize=10)\n",
    "    \n",
    "name = ['initial zb','zb','H+zs']\n",
    "\n",
    "ax.plot(xprofile[:],bed_elev[0,:],'--', lw=1,color='k')\n",
    "\n",
    "line1, = ax.plot([], [], lw=2,color=[139./255.,131./255.,120./255.] )\n",
    "line2, = ax.plot([], [], lw=2,color=[0./255.,0./255.,128./255.])\n",
    "\n",
    "# Initialization function: plot the background of each frame\n",
    "def init():\n",
    "    line1.set_data([], [])\n",
    "    line2.set_data([], [])\n",
    "    return line1,line2, \n",
    "\n",
    "base = -20.\n",
    "top = np.zeros(len(xprofile[:]))\n",
    "top.fill(20.)\n",
    "\n",
    "# Animation function.  This is called sequentially\n",
    "def animate(i):\n",
    "    x = xprofile[:]\n",
    "    f1 = bed_elev[i,:]\n",
    "    sea = wave_height[i,:]+water_lvl[i,:]\n",
    "    f2 = sea\n",
    "    line1.set_data(x, f1)\n",
    "    line2.set_data(x, f2)\n",
    "    ax.fill_between(x, base, top, where= top > base, facecolor=[1.,1.,1.], interpolate=True)\n",
    "    ax.fill_between(x, base, f1, where=f1 >= base, facecolor=[1.0,0.9,0.6], interpolate=True)\n",
    "    ax.fill_between(x, f1, f2, where= f2 > f1, facecolor=[0.7,0.9,1.0], interpolate=True)\n",
    "    ax.legend(name,loc='lower right', fontsize=9)\n",
    "    return line1,line2 \n",
    "\n",
    "# Call the animator.  blit=True means only re-draw the parts that have changed.\n",
    "animation.FuncAnimation(fig, animate, init_func=init, frames=np.arange(0, 2000, 20), interval=200, blit=True)"
   ]
  },
  {
   "cell_type": "markdown",
   "metadata": {},
   "source": [
    "# Analyze results\n",
    "\n",
    "What we did so far is setting-up and running a simple model and visualizing the results. The visualization was limited to a plain representation of the model output. Often, it is necessary to obtain insight in the overall characteristics of the model results in wave propagation and erosion progression in terms of volumes or retreat distances. The following section describes a few simple tools to extract these characteristics from the model output.\n",
    "\n",
    "\n",
    "# Beach profile\n",
    "\n",
    "From the animation above we can see that some erosion/deposition is happening around the 2700 m mark. We will take a closer look at what is happening first"
   ]
  },
  {
   "cell_type": "code",
   "execution_count": null,
   "metadata": {
    "collapsed": false
   },
   "outputs": [],
   "source": [
    "# FID is the frame ID: an integer defining the time step we want to plot\n",
    "def profile_frame(FID):\n",
    "    \n",
    "    names=[]\n",
    "    \n",
    "    # Initial sea elevation (from params.txt)\n",
    "    zso = 5\n",
    "    \n",
    "    # Number of profile to plot (start at 0)\n",
    "    nbframe = len(FID)-1\n",
    "    \n",
    "    # Set figure size\n",
    "    fig, ax1 = plt.subplots(figsize=(15,7), dpi=80) \n",
    "    axes = plt.gca()\n",
    "    \n",
    "    # Set extend of visualisation domain\n",
    "    axes.set_xlim([2600,2850])\n",
    "    axes.set_ylim([-2,16])\n",
    "\n",
    "    # Define the base of the model\n",
    "    base = np.zeros(len(xprofile[:]))\n",
    "    base.fill(-20)\n",
    "  \n",
    "    # Define top water surface using initial condition \n",
    "    #sea = np.zeros(len(xprofile[:]))\n",
    "    #sea.fill(zso)\n",
    "    #ax1.plot(xprofile[:],sea,linewidth=2.0,color=[0./255.,0./255.,128./255.])\n",
    "    #ax1.fill_between(xprofile[:], bed_elev[nbframe,:], sea, where= sea > bed_elev[nbframe,:], facecolor=[0.7,0.9,1.0], interpolate=True)\n",
    "  \n",
    "    # Define bed elevation for given frame ID\n",
    "    for i in range(nbframe+1):\n",
    "        bed = bed_elev[FID[i],:]\n",
    "        if i == 0:\n",
    "            ax1.plot(xprofile[:],bed,'--',linewidth=2.0,color='k')\n",
    "            names.append('initial bed at '+str(int(times[FID[i]]))+'s')\n",
    "        elif i<nbframe:\n",
    "            ax1.plot(xprofile[:],bed,'--',linewidth=1.0,color='k')\n",
    "            names.append('bed at time '+str(int(times[FID[i]]))+'s')\n",
    "        else:\n",
    "            ax1.plot(xprofile[:],bed,linewidth=2.0,color='k')\n",
    "            names.append('final bed at '+str(int(times[FID[i]]))+'s')\n",
    "            sea = water_lvl[FID[i],:]\n",
    "            ax1.plot(xprofile[:],sea,linewidth=2.0,color=[0./255.,0./255.,128./255.])\n",
    "            names.append('water level at '+str(int(times[FID[i]]))+'s')\n",
    "            ax1.fill_between(xprofile[:], bed, sea, where= sea > bed, facecolor=[0.7,0.9,1.0], interpolate=True)\n",
    "    \n",
    "    ax1.fill_between(xprofile[:], base, bed, where=bed >= base, facecolor=[1.0,0.9,0.6], interpolate=True)\n",
    "\n",
    "    # Axes definitions\n",
    "    tlt='Zoom of profile evolution through time close to the shoreline'\n",
    "    plt.title(tlt, fontsize=12)\n",
    "    ax1.set_ylabel('elevation [m]', fontsize=12)\n",
    "    ax1.set_xlabel('lenght [m]', fontsize=12)\n",
    "    plt.setp(ax1.get_xticklabels(), fontsize=10)\n",
    "    plt.setp(ax1.get_yticklabels(), fontsize=10)\n",
    "    \n",
    "    # Set legend\n",
    "    ax1.legend(names,loc='lower right', fontsize=11)\n",
    "    plt.show()"
   ]
  },
  {
   "cell_type": "code",
   "execution_count": null,
   "metadata": {
    "collapsed": false
   },
   "outputs": [],
   "source": [
    "profile_frame([0,600,1200,1999])"
   ]
  },
  {
   "cell_type": "markdown",
   "metadata": {},
   "source": [
    "# Hydrodynamics\n",
    "\n",
    "We will compute hydrodynamic parameters like RMS wave heights over a cross-section. The same is done for orbital velocities and mean velocities. Also we will plot the Wave energy evolution over the profile as well as the dissipation of this energy along the profile. "
   ]
  },
  {
   "cell_type": "code",
   "execution_count": null,
   "metadata": {
    "collapsed": false
   },
   "outputs": [],
   "source": [
    "# Wave height rms\n",
    "Hrms = np.mean(nc_data.variables['H'][:,0,:], axis=0)\n",
    "# Water velocity\n",
    "ue = np.mean(nc_data.variables['ue'][:,0,:], axis=0)\n",
    "# Wave energy\n",
    "E = np.mean(nc_data.variables['E'][:,0,:], axis=0)\n",
    "# Roller energy\n",
    "R = np.mean(nc_data.variables['R'][:,0,:], axis=0)\n",
    "# Energy dissipation\n",
    "D = np.mean(nc_data.variables['D'][:,0,:], axis=0)\n",
    "# Roller energy dissipation\n",
    "Drol = np.mean(nc_data.variables['DR'][:,0,:], axis=0)"
   ]
  },
  {
   "cell_type": "markdown",
   "metadata": {},
   "source": [
    "We define the series of plots that we will do in the next cell:"
   ]
  },
  {
   "cell_type": "code",
   "execution_count": null,
   "metadata": {
    "collapsed": false
   },
   "outputs": [],
   "source": [
    "def plot_HRMS():\n",
    "    # Set figure size\n",
    "    fig, ax1 = plt.subplots(figsize=(15,3), dpi=80) \n",
    "    axes = plt.gca()\n",
    "    # Set extend of computational domain\n",
    "    axes.set_xlim([0,3000])\n",
    "    axes.set_ylim([-0.5,5])\n",
    "    ax1.plot(xprofile[:],Hrms,linewidth=2.0)\n",
    "    # Axes definitions\n",
    "    ax1.set_ylabel('elevation [m]', fontsize=12)\n",
    "    ax1.set_xlabel('lenght [m]', fontsize=12)\n",
    "    plt.setp(ax1.get_xticklabels(), fontsize=10)\n",
    "    plt.setp(ax1.get_yticklabels(), fontsize=10)\n",
    "    plt.grid()\n",
    "    # Set legend\n",
    "    names=['Hrms']\n",
    "    ax1.legend(names,loc='upper right', fontsize=11)\n",
    "    plt.show()\n",
    "    \n",
    "############################\n",
    "def plot_Velocity():\n",
    "    # Set figure size\n",
    "    fig, ax1 = plt.subplots(figsize=(15,3), dpi=80) \n",
    "    axes = plt.gca()\n",
    "    # Set extend of computational domain\n",
    "    axes.set_xlim([0,3000])\n",
    "    axes.set_ylim([-2,0.5])\n",
    "    ax1.plot(xprofile[:],ue,linewidth=2.0)\n",
    "    # Axes definitions\n",
    "    ax1.set_ylabel('velocity [m/s]', fontsize=12)\n",
    "    ax1.set_xlabel('lenght [m]', fontsize=12)\n",
    "    plt.setp(ax1.get_xticklabels(), fontsize=10)\n",
    "    plt.setp(ax1.get_yticklabels(), fontsize=10)\n",
    "    plt.grid()\n",
    "    # Set legend\n",
    "    names=['water velocity']\n",
    "    ax1.legend(names,loc='lower right', fontsize=11)\n",
    "    plt.show()\n",
    "    \n",
    "############################\n",
    "def plot_Energy():\n",
    "    # Set figure size\n",
    "    fig, ax1 = plt.subplots(figsize=(15,3), dpi=80) \n",
    "    axes = plt.gca()\n",
    "    # Set extend of computational domain\n",
    "    axes.set_xlim([0,3000])\n",
    "    axes.set_ylim([min(E)-100,max(E)+100])\n",
    "    ax1.plot(xprofile[:],E,linewidth=2.0)\n",
    "    ax1.plot(xprofile[:],R*10,linewidth=2.0)\n",
    "    # Axes definitions\n",
    "    ax1.set_ylabel('energy [Nm/m2]', fontsize=12)\n",
    "    ax1.set_xlabel('lenght [m]', fontsize=12)\n",
    "    plt.setp(ax1.get_xticklabels(), fontsize=10)\n",
    "    plt.setp(ax1.get_yticklabels(), fontsize=10)\n",
    "    plt.grid()\n",
    "    # Set legend\n",
    "    names=['Wave energy', 'Roller energy x 10']\n",
    "    ax1.legend(names,loc='upper right', fontsize=11)\n",
    "    plt.show()\n",
    "    \n",
    "############################\n",
    "def plot_Dissipation():\n",
    "    # Set figure size\n",
    "    fig, ax1 = plt.subplots(figsize=(15,3), dpi=80) \n",
    "    axes = plt.gca()\n",
    "    # Set extend of computational domain\n",
    "    axes.set_xlim([0,3000])\n",
    "    axes.set_ylim([min(Drol)-100,max(Drol)+100])\n",
    "    ax1.plot(xprofile[:],D,linewidth=2.0)\n",
    "    ax1.plot(xprofile[:],Drol,linewidth=2.0)\n",
    "    # Axes definitions\n",
    "    ax1.set_ylabel('energy dissipation [W/m2]', fontsize=12)\n",
    "    ax1.set_xlabel('lenght [m]', fontsize=12)\n",
    "    plt.setp(ax1.get_xticklabels(), fontsize=10)\n",
    "    plt.setp(ax1.get_yticklabels(), fontsize=10)\n",
    "    plt.grid()\n",
    "    # Set legend\n",
    "    names=['Wave dissipation', 'Roller dissipation']\n",
    "    ax1.legend(names,loc='upper left', fontsize=11)\n",
    "    plt.show()"
   ]
  },
  {
   "cell_type": "markdown",
   "metadata": {},
   "source": [
    "We will not plot the dataset by calling the previously defined functions:"
   ]
  },
  {
   "cell_type": "code",
   "execution_count": null,
   "metadata": {
    "collapsed": false
   },
   "outputs": [],
   "source": [
    "plot_HRMS()\n",
    "plot_Velocity()\n",
    "plot_Energy()\n",
    "plot_Dissipation()"
   ]
  },
  {
   "cell_type": "markdown",
   "metadata": {},
   "source": [
    "# Sediment transports\n",
    "\n",
    "We first define the output xbeach parameters that will be used:"
   ]
  },
  {
   "cell_type": "code",
   "execution_count": null,
   "metadata": {
    "collapsed": true
   },
   "outputs": [],
   "source": [
    "# Depth-averaged suspended concentration \n",
    "SuspConc = np.mean(nc_data.variables['ccg'][:,0,0,:], axis=0)\n",
    "# Depth-averaged suspended equilibrium concentration \n",
    "SEqConc = np.mean(nc_data.variables['ceqsg'][:,0,0,:], axis=0)\n",
    "# Depth-averaged bed equilibrium concentration\n",
    "BEqConc = np.mean(nc_data.variables['ceqbg'][:,0,0,:], axis=0)\n",
    "# Suspended sediment transport\n",
    "SuspTrans = np.mean(nc_data.variables['Susg'][:,0,0,:], axis=0)"
   ]
  },
  {
   "cell_type": "markdown",
   "metadata": {},
   "source": [
    "Then we define the plotting function"
   ]
  },
  {
   "cell_type": "code",
   "execution_count": null,
   "metadata": {
    "collapsed": true
   },
   "outputs": [],
   "source": [
    "def plot_SedConc():\n",
    "    # Set figure size\n",
    "    fig, ax1 = plt.subplots(figsize=(15,3), dpi=80) \n",
    "    axes = plt.gca()\n",
    "    # Set extend of computational domain\n",
    "    axes.set_xlim([2600,2850])\n",
    "    axes.set_ylim([0.,0.03])\n",
    "    ax1.plot(xprofile[:],SuspConc,linewidth=2.0)\n",
    "    ax1.plot(xprofile[:],SEqConc,linewidth=2.0)\n",
    "    ax1.plot(xprofile[:],BEqConc*10,linewidth=2.0)\n",
    "    # Axes definitions\n",
    "    ax1.set_ylabel('Concentration [m3/m3]', fontsize=12)\n",
    "    ax1.set_xlabel('lenght [m]', fontsize=12)\n",
    "    plt.setp(ax1.get_xticklabels(), fontsize=10)\n",
    "    plt.setp(ax1.get_yticklabels(), fontsize=10)\n",
    "    plt.grid()\n",
    "    # Set legend\n",
    "    names=['Depth-averaged suspended concentration','Depth-averaged suspended equilibrium concentration ','Depth-averaged bed equilibrium concentration x 10']\n",
    "    ax1.legend(names,loc='upper left', fontsize=11)\n",
    "    plt.show()\n",
    "    \n",
    "############################\n",
    "def plot_Transport():\n",
    "    # Set figure size\n",
    "    fig, ax1 = plt.subplots(figsize=(15,3), dpi=80) \n",
    "    axes = plt.gca()\n",
    "    # Set extend of computational domain\n",
    "    axes.set_xlim([2600,2850])\n",
    "    axes.set_ylim([min(SuspTrans)-0.01,max(SuspTrans)+0.01])\n",
    "    ax1.plot(xprofile[:],SuspTrans,linewidth=2.0)\n",
    "    # Axes definitions\n",
    "    ax1.set_ylabel('transport [m2/s]', fontsize=12)\n",
    "    ax1.set_xlabel('lenght [m]', fontsize=12)\n",
    "    plt.setp(ax1.get_xticklabels(), fontsize=10)\n",
    "    plt.setp(ax1.get_yticklabels(), fontsize=10)\n",
    "    plt.grid()\n",
    "    # Set legend\n",
    "    names=['Suspended sediment transport']\n",
    "    ax1.legend(names,loc='upper left', fontsize=11)\n",
    "    plt.show()"
   ]
  },
  {
   "cell_type": "markdown",
   "metadata": {},
   "source": [
    "Now we plot the graphs:"
   ]
  },
  {
   "cell_type": "code",
   "execution_count": null,
   "metadata": {
    "collapsed": false
   },
   "outputs": [],
   "source": [
    "plot_SedConc()\n",
    "plot_Transport()"
   ]
  },
  {
   "cell_type": "markdown",
   "metadata": {},
   "source": [
    "# Morphology\n",
    "\n",
    "We do the same for plotting morphological evolution"
   ]
  },
  {
   "cell_type": "code",
   "execution_count": null,
   "metadata": {
    "collapsed": false
   },
   "outputs": [],
   "source": [
    "# Compute bed change\n",
    "dx = xprofile[1]-xprofile[0]\n",
    "bed = nc_data.variables['zb'][:,0,:]\n",
    "Nbtime = len(bed[:,0])\n",
    "zdiff = bed[Nbtime-1,:] - bed[0,:]\n",
    "\n",
    "# Compute cumulative erosion, deposition over time\n",
    "cumDep = np.zeros(Nbtime)\n",
    "cumEro = np.zeros(Nbtime)\n",
    "for t in range(1,Nbtime):\n",
    "    diff = bed[t,:] - bed[t-1,:]\n",
    "    eroIDs = np.where(diff<0)[0]\n",
    "    depIDs = np.where(diff>0)[0]\n",
    "    totero = -sum(diff[eroIDs])*len(eroIDs)*dx + cumEro[t-1]\n",
    "    totdepo = sum(diff[depIDs])*len(depIDs)*dx + cumDep[t-1]\n",
    "    cumEro[t] = totero\n",
    "    cumDep[t] = totdepo\n",
    "    \n",
    "# Compute position of shoreline through time\n",
    "shorepos = np.zeros(Nbtime)\n",
    "zo = 5\n",
    "for t in range(0,Nbtime):\n",
    "    up = np.where(bed[t,:]>=zo)[0]\n",
    "    a = (bed[t,up[1]]-bed[t,up[1]-1])/(xprofile[up[1]]-xprofile[up[1]-1])\n",
    "    b = bed[t,up[1]-1] - a * xprofile[up[1]-1]\n",
    "    shorepos[t] = (zo - b)/a "
   ]
  },
  {
   "cell_type": "code",
   "execution_count": null,
   "metadata": {
    "collapsed": true
   },
   "outputs": [],
   "source": [
    "def plot_morpho():\n",
    "    # Set figure size\n",
    "    fig, ax1 = plt.subplots(figsize=(15,3), dpi=80) \n",
    "    axes = plt.gca()\n",
    "    # Set extend of computational domain\n",
    "    axes.set_xlim([2550,2850])\n",
    "    axes.set_ylim([min(zdiff)-0.25,max(zdiff)+0.25])\n",
    "    ax1.plot(xprofile[:],zdiff,'-k',linewidth=3.0)\n",
    "    ax1.fill_between(xprofile[:], zdiff, 0, where= zdiff > 0, facecolor=[204./255.,153./255.,255./255.], interpolate=True)\n",
    "    ax1.fill_between(xprofile[:], zdiff, 0, where= zdiff < 0, facecolor=[0.7,0.9,1.0], interpolate=True)\n",
    "    # Axes definitions\n",
    "    ax1.set_ylabel('elevation [m]', fontsize=12)\n",
    "    ax1.set_xlabel('lenght [m]', fontsize=12)\n",
    "    plt.setp(ax1.get_xticklabels(), fontsize=10)\n",
    "    plt.setp(ax1.get_yticklabels(), fontsize=10)\n",
    "    plt.grid()\n",
    "    # Set legend\n",
    "    names=['elevation change']\n",
    "    ax1.legend(names,loc='lower left', fontsize=11)\n",
    "    plt.show()\n",
    "    \n",
    "def plot_erodep():\n",
    "    # Set figure size\n",
    "    fig, ax1 = plt.subplots(figsize=(15,3), dpi=80) \n",
    "    axes = plt.gca()\n",
    "    # Set extend of computational domain\n",
    "    axes.set_xlim([0,1999])\n",
    "    axes.set_ylim([min(cumEro),max(cumEro)+100])\n",
    "    ax1.plot(np.arange(0,2000),cumEro,'-k',linewidth=3.0,color=[0.7,0.9,1.0])\n",
    "    ax1.plot(np.arange(0,2000),cumDep,'-k',linewidth=3.0,color=[204./255.,153./255.,255./255.])\n",
    "    # Axes definitions\n",
    "    ax1.set_ylabel('cumulative change [m3/m]', fontsize=12)\n",
    "    ax1.set_xlabel('time [step]', fontsize=12)\n",
    "    plt.setp(ax1.get_xticklabels(), fontsize=10)\n",
    "    plt.setp(ax1.get_yticklabels(), fontsize=10)\n",
    "    plt.grid()\n",
    "    # Set legend\n",
    "    names=['cumulative erosion','cumulative deposition']\n",
    "    ax1.legend(names,loc='lower right', fontsize=11)\n",
    "    plt.show()\n",
    "    \n",
    "def plot_shore():\n",
    "    # Set figure size\n",
    "    fig, ax1 = plt.subplots(figsize=(15,3), dpi=80) \n",
    "    axes = plt.gca()\n",
    "    # Set extend of computational domain\n",
    "    axes.set_xlim([0,1999])\n",
    "    axes.set_ylim([min(shorepos)-0.5,max(shorepos)+0.5])\n",
    "    ax1.plot(np.arange(0,2000),shorepos,'-',linewidth=3.0,color=[1.0,0.9,0.6])\n",
    "    # Axes definitions\n",
    "    ax1.set_ylabel('position [m]', fontsize=12)\n",
    "    ax1.set_xlabel('time [step]', fontsize=12)\n",
    "    plt.setp(ax1.get_xticklabels(), fontsize=10)\n",
    "    plt.setp(ax1.get_yticklabels(), fontsize=10)\n",
    "    plt.grid()\n",
    "    # Set legend\n",
    "    names=['shoreline position']\n",
    "    ax1.legend(names,loc='upper left', fontsize=11)\n",
    "    plt.show()"
   ]
  },
  {
   "cell_type": "code",
   "execution_count": null,
   "metadata": {
    "collapsed": false
   },
   "outputs": [],
   "source": [
    "plot_morpho()\n",
    "plot_erodep()\n",
    "plot_shore()"
   ]
  },
  {
   "cell_type": "code",
   "execution_count": null,
   "metadata": {
    "collapsed": true
   },
   "outputs": [],
   "source": []
  }
 ],
 "metadata": {
  "kernelspec": {
   "display_name": "Python 2",
   "language": "python",
   "name": "python2"
  },
  "language_info": {
   "codemirror_mode": {
    "name": "ipython",
    "version": 2
   },
   "file_extension": ".py",
   "mimetype": "text/x-python",
   "name": "python",
   "nbconvert_exporter": "python",
   "pygments_lexer": "ipython2",
   "version": "2.7.6"
  }
 },
 "nbformat": 4,
 "nbformat_minor": 0
}
