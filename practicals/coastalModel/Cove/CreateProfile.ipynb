{
 "cells": [
  {
   "cell_type": "markdown",
   "metadata": {},
   "source": [
    "# How to create a XBeach profiles\n",
    "\n",
    "To create a beach profile for the lab, I suggest to use IPython but you can do that with something else (excell, matlab, C, fortran, you name it!)"
   ]
  },
  {
   "cell_type": "code",
   "execution_count": 1,
   "metadata": {
    "collapsed": true
   },
   "outputs": [],
   "source": [
    "%matplotlib inline\n",
    "import numpy as np\n",
    "import matplotlib.pyplot as plt"
   ]
  },
  {
   "cell_type": "markdown",
   "metadata": {},
   "source": [
    "## Create new directories\n",
    "\n",
    "First we will create 2 new folders where we will put our profiles"
   ]
  },
  {
   "cell_type": "code",
   "execution_count": 37,
   "metadata": {
    "collapsed": false
   },
   "outputs": [],
   "source": [
    "!mkdir /workspace/CoastalEvol/myprofile1\n",
    "!mkdir /workspace/CoastalEvol/myprofile2\n",
    "#!mkdir /workspace/CoastalEvol/myprofile3\n",
    "#!mkdir /workspace/CoastalEvol/myprofile4"
   ]
  },
  {
   "cell_type": "code",
   "execution_count": 20,
   "metadata": {
    "collapsed": false
   },
   "outputs": [],
   "source": [
    "!ls /workspace/CoastalEvol/"
   ]
  },
  {
   "cell_type": "markdown",
   "metadata": {},
   "source": [
    "## Define X-axis\n",
    "\n",
    "Creating a regularly space data between 2 points is easy with **numpy** library:"
   ]
  },
  {
   "cell_type": "code",
   "execution_count": 21,
   "metadata": {
    "collapsed": false
   },
   "outputs": [],
   "source": [
    "Xaxis = np.arange(0.,5010.,10)"
   ]
  },
  {
   "cell_type": "markdown",
   "metadata": {},
   "source": [
    "## Define Y-axis\n",
    "\n",
    "To create the Y-axis which a array of zeros in our case as we are working with profiles you can use again the **numpy** library"
   ]
  },
  {
   "cell_type": "code",
   "execution_count": 22,
   "metadata": {
    "collapsed": true
   },
   "outputs": [],
   "source": [
    "Yaxis = np.zeros(len(Xaxis))"
   ]
  },
  {
   "cell_type": "markdown",
   "metadata": {},
   "source": [
    "## Define Profile elevation\n",
    "\n",
    "I will create 2 profiles to give an idea on how to build one yourself... you can use one or the other or a combination of both to create your own one.\n",
    "\n",
    "### First profile"
   ]
  },
  {
   "cell_type": "code",
   "execution_count": 23,
   "metadata": {
    "collapsed": false
   },
   "outputs": [],
   "source": [
    "Z1axis = np.zeros(len(Xaxis))\n",
    "for i in range(len(Xaxis)):\n",
    "    if Xaxis[i] <= 1200:\n",
    "        z = np.exp(0.005*Xaxis[i])-50.\n",
    "        if z < 2:\n",
    "            Z1axis[i] = z\n",
    "        else:\n",
    "            Z1axis[i] = 2.\n",
    "    elif Xaxis[i] > 1200 and Xaxis[i] <= 2700 :\n",
    "        z = (np.exp(-(Xaxis[i]-1200)/1000)-1.)*20.\n",
    "        if z >= -15:\n",
    "            Z1axis[i] = (np.exp(-(Xaxis[i]-1200)/1000)-1.)*20.+2.\n",
    "        else:\n",
    "            Z1axis[i] = -13.\n",
    "    else:\n",
    "        z = (np.exp(0.0015*(Xaxis[i]-2700)))-14.\n",
    "        if z < 10.:\n",
    "            Z1axis[i] = z\n",
    "        else:\n",
    "            Z1axis[i] = 10."
   ]
  },
  {
   "cell_type": "markdown",
   "metadata": {},
   "source": [
    "### Second profile"
   ]
  },
  {
   "cell_type": "code",
   "execution_count": 24,
   "metadata": {
    "collapsed": true
   },
   "outputs": [],
   "source": [
    "Z2axis = np.zeros(len(Xaxis))\n",
    "for i in range(len(Xaxis)):\n",
    "    if Xaxis[i] <= 1200:\n",
    "        z = np.exp(0.005*Xaxis[i])-50.\n",
    "        if z < -15:\n",
    "            Z2axis[i] = z\n",
    "        else:\n",
    "            Z2axis[i] = -15.\n",
    "    elif Xaxis[i] > 1200 and Xaxis[i] <= 2700 :\n",
    "        z = -15\n",
    "        Z2axis[i] = z\n",
    "    else:\n",
    "        z = (np.exp(0.0015*(Xaxis[i]-2700)))-16.\n",
    "        if z < 10.:\n",
    "            Z2axis[i] = z\n",
    "        else:\n",
    "            Z2axis[i] = 10."
   ]
  },
  {
   "cell_type": "markdown",
   "metadata": {},
   "source": [
    "### Third profile"
   ]
  },
  {
   "cell_type": "code",
   "execution_count": 25,
   "metadata": {
    "collapsed": false
   },
   "outputs": [],
   "source": [
    "Z3axis = np.zeros(len(Xaxis))\n",
    "\n",
    "# First I define general slopes\n",
    "slp1 = 0.01\n",
    "slp2 = 0.0075\n",
    "# On top of these slope I add a sinusoid with different amplitudes and periods\n",
    "for i in range(len(Xaxis)):\n",
    "    if Xaxis[i] <= 2000:\n",
    "        z1 = slp1 * Xaxis[i] -30. + 3.0 * np.sin(Xaxis[i]/2000*2*np.pi)\n",
    "        if z1 < -10.:\n",
    "            Z3axis[i] = z1\n",
    "        else:\n",
    "            Z3axis[i] = -10.\n",
    "    else:\n",
    "        z2 = slp2 * (Xaxis[i]-2000.) -10.\n",
    "        Z3axis[i] = z2 + 2.0 * np.sin((Xaxis[i]-2000)/1000*2*np.pi)"
   ]
  },
  {
   "cell_type": "markdown",
   "metadata": {},
   "source": [
    "### Fourth profile"
   ]
  },
  {
   "cell_type": "code",
   "execution_count": 26,
   "metadata": {
    "collapsed": true
   },
   "outputs": [],
   "source": [
    "Z4axis = np.zeros(len(Xaxis))\n",
    "\n",
    "# First I define general slopes\n",
    "slp1 = 0.01\n",
    "slp2 = 0.0075\n",
    "# On top of these slope\n",
    "for i in range(len(Xaxis)):\n",
    "    if Xaxis[i] <= 2000:\n",
    "        z1 = slp1 * Xaxis[i] -30. \n",
    "        if z1 < -10.:\n",
    "            Z4axis[i] = z1\n",
    "        else:\n",
    "            Z4axis[i] = -10.\n",
    "    else:\n",
    "        z2 = slp2 * (Xaxis[i]-2000.) -10.\n",
    "        if z2 < 10.:\n",
    "            Z4axis[i] = z2 \n",
    "        else:\n",
    "            Z4axis[i] = 10."
   ]
  },
  {
   "cell_type": "markdown",
   "metadata": {},
   "source": [
    "### Plot profiles"
   ]
  },
  {
   "cell_type": "code",
   "execution_count": 27,
   "metadata": {
    "collapsed": false
   },
   "outputs": [
    {
     "data": {
      "image/png": "[encoded data removed]",
      "text/plain": [
       "<matplotlib.figure.Figure at 0x7f31233a7fd0>"
      ]
     },
     "metadata": {},
     "output_type": "display_data"
    },
    {
     "data": {
      "image/png": "[encoded data removed]",
      "text/plain": [
       "<matplotlib.figure.Figure at 0x7f3123cbd3d0>"
      ]
     },
     "metadata": {},
     "output_type": "display_data"
    },
    {
     "data": {
      "image/png": "[encoded data removed]",
      "text/plain": [
       "<matplotlib.figure.Figure at 0x7f31233d0d50>"
      ]
     },
     "metadata": {},
     "output_type": "display_data"
    },
    {
     "data": {
      "image/png": "[encoded data removed]",
      "text/plain": [
       "<matplotlib.figure.Figure at 0x7f3123ce3dd0>"
      ]
     },
     "metadata": {},
     "output_type": "display_data"
    }
   ],
   "source": [
    "fig = plt.figure(figsize=(10,5))\n",
    "ax = plt.axes(xlim=(min(Xaxis), max(Xaxis)), ylim=(min(Z1axis)-10, max(Z1axis)+10))\n",
    "plt.title('Beach profile 1', fontsize=12)\n",
    "ax.set_ylabel('elevation [m]', fontsize=12)\n",
    "ax.set_xlabel('lenght [m]', fontsize=12)\n",
    "ax.plot(Xaxis,Z1axis,'-', lw=3,color=[139./255.,131./255.,120./255.])\n",
    "ax.fill_between(Xaxis, Z1axis, min(Z1axis)-10, where=Z1axis >= min(Z1axis)-10, facecolor=[1.0,0.9,0.6], interpolate=True)\n",
    "\n",
    "sea = np.zeros(len(Xaxis))\n",
    "sea.fill(5)\n",
    "ax.fill_between(Xaxis, Z1axis, sea, where= sea > Z1axis, facecolor=[0.7,0.9,1.0], interpolate=True)\n",
    "\n",
    "\n",
    "plt.setp(ax.get_xticklabels(), fontsize=10)\n",
    "plt.setp(ax.get_yticklabels(), fontsize=10)\n",
    "plt.show()\n",
    "\n",
    "#####\n",
    "fig = plt.figure(figsize=(10,5))\n",
    "ax = plt.axes(xlim=(min(Xaxis), max(Xaxis)), ylim=(min(Z2axis)-10, max(Z2axis)+10))\n",
    "plt.title('Beach profile 2', fontsize=12)\n",
    "ax.set_ylabel('elevation [m]', fontsize=12)\n",
    "ax.set_xlabel('lenght [m]', fontsize=12)\n",
    "ax.plot(Xaxis,Z2axis,'-', lw=3,color=[139./255.,131./255.,120./255.])\n",
    "ax.fill_between(Xaxis, Z2axis, min(Z2axis)-10, where=Z2axis >= min(Z2axis)-10, facecolor=[1.0,0.9,0.6], interpolate=True)\n",
    "\n",
    "sea = np.zeros(len(Xaxis))\n",
    "sea.fill(5)\n",
    "ax.fill_between(Xaxis, Z2axis, sea, where= sea > Z2axis, facecolor=[0.7,0.9,1.0], interpolate=True)\n",
    "\n",
    "\n",
    "plt.setp(ax.get_xticklabels(), fontsize=10)\n",
    "plt.setp(ax.get_yticklabels(), fontsize=10)\n",
    "plt.show()\n",
    "\n",
    "#####\n",
    "fig = plt.figure(figsize=(10,5))\n",
    "ax = plt.axes(xlim=(min(Xaxis), max(Xaxis)), ylim=(min(Z3axis)-10, max(Z3axis)+10))\n",
    "plt.title('Beach profile 3', fontsize=12)\n",
    "ax.set_ylabel('elevation [m]', fontsize=12)\n",
    "ax.set_xlabel('lenght [m]', fontsize=12)\n",
    "ax.plot(Xaxis,Z3axis,'-', lw=3,color=[139./255.,131./255.,120./255.])\n",
    "ax.fill_between(Xaxis, Z3axis, min(Z3axis)-10, where=Z3axis >= min(Z3axis)-10, facecolor=[1.0,0.9,0.6], interpolate=True)\n",
    "\n",
    "sea = np.zeros(len(Xaxis))\n",
    "sea.fill(5)\n",
    "ax.fill_between(Xaxis, Z3axis, sea, where= sea > Z3axis, facecolor=[0.7,0.9,1.0], interpolate=True)\n",
    "\n",
    "\n",
    "plt.setp(ax.get_xticklabels(), fontsize=10)\n",
    "plt.setp(ax.get_yticklabels(), fontsize=10)\n",
    "plt.show()\n",
    "\n",
    "#####\n",
    "fig = plt.figure(figsize=(10,5))\n",
    "ax = plt.axes(xlim=(min(Xaxis), max(Xaxis)), ylim=(min(Z3axis)-10, max(Z3axis)+10))\n",
    "plt.title('Beach profile 4', fontsize=12)\n",
    "ax.set_ylabel('elevation [m]', fontsize=12)\n",
    "ax.set_xlabel('lenght [m]', fontsize=12)\n",
    "ax.plot(Xaxis,Z4axis,'-', lw=3,color=[139./255.,131./255.,120./255.])\n",
    "ax.fill_between(Xaxis, Z4axis, min(Z4axis)-10, where=Z4axis >= min(Z4axis)-10, facecolor=[1.0,0.9,0.6], interpolate=True)\n",
    "\n",
    "sea = np.zeros(len(Xaxis))\n",
    "sea.fill(5)\n",
    "ax.fill_between(Xaxis, Z4axis, sea, where= sea > Z4axis, facecolor=[0.7,0.9,1.0], interpolate=True)\n",
    "\n",
    "\n",
    "plt.setp(ax.get_xticklabels(), fontsize=10)\n",
    "plt.setp(ax.get_yticklabels(), fontsize=10)\n",
    "plt.show()"
   ]
  },
  {
   "cell_type": "markdown",
   "metadata": {},
   "source": [
    "Let's have a look at these 3 arrays:"
   ]
  },
  {
   "cell_type": "code",
   "execution_count": 6,
   "metadata": {
    "collapsed": false
   },
   "outputs": [],
   "source": [
    "#print Xaxis\n",
    "#print Yaxis\n",
    "#print Z1axis"
   ]
  },
  {
   "cell_type": "markdown",
   "metadata": {},
   "source": [
    "## Save input files\n",
    "\n",
    "Create the input files is again really easy using **numpy** `savetxt` function. Based on the profile you want to look at either the 1 and 2 or the 3 and 4 save the files accordingly"
   ]
  },
  {
   "cell_type": "code",
   "execution_count": 46,
   "metadata": {
    "collapsed": false
   },
   "outputs": [],
   "source": [
    "xfile = './myprofile1/x.grd'\n",
    "np.savetxt(xfile, Xaxis[None], delimiter=' ', fmt='%g')"
   ]
  },
  {
   "cell_type": "code",
   "execution_count": 47,
   "metadata": {
    "collapsed": false
   },
   "outputs": [],
   "source": [
    "yfile = './myprofile1/y.grd'\n",
    "np.savetxt(yfile, Yaxis[None], delimiter=' ', fmt='%g')"
   ]
  },
  {
   "cell_type": "code",
   "execution_count": 40,
   "metadata": {
    "collapsed": true
   },
   "outputs": [],
   "source": [
    "bedfile = './myprofile1/bed1.dep'\n",
    "np.savetxt(bedfile, Z1axis[None], delimiter=' ', fmt='%g')"
   ]
  },
  {
   "cell_type": "code",
   "execution_count": null,
   "metadata": {
    "collapsed": true
   },
   "outputs": [],
   "source": [
    "xfile = './myprofile2/x.grd'\n",
    "np.savetxt(xfile, Xaxis[None], delimiter=' ', fmt='%g')"
   ]
  },
  {
   "cell_type": "code",
   "execution_count": null,
   "metadata": {
    "collapsed": true
   },
   "outputs": [],
   "source": [
    "yfile = './myprofile2/y.grd'\n",
    "np.savetxt(yfile, Yaxis[None], delimiter=' ', fmt='%g')"
   ]
  },
  {
   "cell_type": "code",
   "execution_count": 56,
   "metadata": {
    "collapsed": true
   },
   "outputs": [],
   "source": [
    "bedfile4 = './myprofile4/bed4.dep'\n",
    "np.savetxt(bedfile4, Z4axis[None], delimiter=' ', fmt='%g')"
   ]
  },
  {
   "cell_type": "markdown",
   "metadata": {},
   "source": [
    "### Parameters file\n",
    "\n",
    "XBeach requires additional files to run, here we will copy them from the `default` example folder. We need:\n",
    "- Sediment transport parameters file: `swtable.txt`\n",
    "- Wave-spectrum boundary condition parameters file: `jonswap.txt`\n",
    "- The parameter file required when calling xbeach: `params.txt`"
   ]
  },
  {
   "cell_type": "code",
   "execution_count": 53,
   "metadata": {
    "collapsed": true
   },
   "outputs": [],
   "source": [
    "!cp ./default/params.txt ./myprofile1/\n",
    "!cp ./default/swtable.txt ./myprofile1/\n",
    "!cp ./default/jonswap.txt ./myprofile1/\n",
    "#\n",
    "!cp ./default/params.txt ./myprofile2/\n",
    "!cp ./default/swtable.txt ./myprofile2/\n",
    "!cp ./default/jonswap.txt ./myprofile2/"
   ]
  },
  {
   "cell_type": "markdown",
   "metadata": {},
   "source": [
    "Check that the profile files (*x.grd*, *y.grd* and *bed.dep*) are in the directory"
   ]
  },
  {
   "cell_type": "code",
   "execution_count": 54,
   "metadata": {
    "collapsed": false
   },
   "outputs": [
    {
     "name": "stdout",
     "output_type": "stream",
     "text": [
      "bed1.dep  jonswap.txt  params.txt  swtable.txt\tx.grd  y.grd\r\n"
     ]
    }
   ],
   "source": [
    "!ls /workspace/CoastalEvol/myprofile1"
   ]
  },
  {
   "cell_type": "markdown",
   "metadata": {},
   "source": [
    "Don't forget to modify the `params.txt` file to change the name of the newly created grids, specially ensure that you have set the proper name for required file name and to set the number of points along the X-axis:"
   ]
  },
  {
   "cell_type": "code",
   "execution_count": 55,
   "metadata": {
    "collapsed": false
   },
   "outputs": [
    {
     "name": "stdout",
     "output_type": "stream",
     "text": [
      "params.txt: nx= 500\n"
     ]
    }
   ],
   "source": [
    "print 'params.txt: nx=',len(Xaxis)-1"
   ]
  },
  {
   "cell_type": "code",
   "execution_count": null,
   "metadata": {
    "collapsed": true
   },
   "outputs": [],
   "source": []
  }
 ],
 "metadata": {
  "kernelspec": {
   "display_name": "Python 2",
   "language": "python",
   "name": "python2"
  },
  "language_info": {
   "codemirror_mode": {
    "name": "ipython",
    "version": 2
   },
   "file_extension": ".py",
   "mimetype": "text/x-python",
   "name": "python",
   "nbconvert_exporter": "python",
   "pygments_lexer": "ipython2",
   "version": "2.7.6"
  }
 },
 "nbformat": 4,
 "nbformat_minor": 0
}
