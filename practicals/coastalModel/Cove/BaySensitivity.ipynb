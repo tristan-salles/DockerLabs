{
 "cells": [
  {
   "cell_type": "markdown",
   "metadata": {
    "collapsed": true,
    "deletable": true,
    "editable": true
   },
   "source": [
    "# Sensitivities of crenulate bay shorelines to wave climates \n",
    "\n",
    "We will use a vector-based one-line model called COVE to study to explore how the wave direction $\\theta_o$ and spreading $\\theta_{std}$ is influencing shorelines evolution.\n",
    "\n",
    "## Running COVE\n",
    "\n",
    "The COVE model has been already installed on the system: `/usr/local/bin`. To run the model, you will use the following command (don't forget to put `!` before calling the executable).\n",
    "\n",
    "The `!` in IPython Notebook is a command `magic` which enable you to run terminal command directly from the IPython cell interface."
   ]
  },
  {
   "cell_type": "code",
   "execution_count": 7,
   "metadata": {
    "collapsed": false,
    "deletable": true,
    "editable": true
   },
   "outputs": [
    {
     "name": "stdout",
     "output_type": "stream",
     "text": [
      "Program needs 6 input arguments to generate a Gaussian waveclimate object:\r\n",
      "\t- MeanWavePeriod\r\n",
      "\t- StDWavePeriod\r\n",
      "\t- MeanWaveHeight\r\n",
      "\t- StDWaveHeight\r\n",
      "\t- MeanWaveDirection\r\n",
      "\t- StDWaveDirection\r\n",
      "BaySensitivity.ipynb  cove  spiral_in.in\r\n"
     ]
    }
   ],
   "source": [
    "!./cove; ls"
   ]
  },
  {
   "cell_type": "markdown",
   "metadata": {
    "deletable": true,
    "editable": true
   },
   "source": [
    "As shown in previous output the model requires 6 arguments. We will give the following values for each of them: \n",
    "- MeanWavePeriod $T_{mean}=6s$ \n",
    "- StDWavePeriod $T_{std}=1s$ \n",
    "- MeanWaveHeight $H_{mean}=1.m$ \n",
    "- StDWaveHeight $H_{std}=0.1m$\n",
    "\n",
    "And for this first run we will use the following value for the wave direction and spreading:\n",
    "- MeanWaveDirection $\\theta_{mean}$=$25^o$\n",
    "- StDWaveDirection $\\theta_{std}$=$10^o$"
   ]
  },
  {
   "cell_type": "code",
   "execution_count": 8,
   "metadata": {
    "collapsed": false,
    "deletable": true,
    "editable": true
   },
   "outputs": [
    {
     "name": "stdout",
     "output_type": "stream",
     "text": [
      "Coastline.Initialise: Initialising Coastline from XY file: spiral.in at Time: 0\r\n",
      "Coastline.ReadCoast: Error, the file spiral.in has not been read correctly.\r\n"
     ]
    }
   ],
   "source": [
    "!./cove 6 1 1. 0.1 25 10"
   ]
  },
  {
   "cell_type": "markdown",
   "metadata": {
    "deletable": true,
    "editable": true
   },
   "source": [
    "The model results have been written in a file called `Spiral_6_1_1._0.1_25_10.xy`. As you can see the output file is named based on the input parameters given for the model run.\n",
    "\n",
    "## Plotting shoreline evolution\n",
    "\n",
    "First we need to load the usually IPython libraries (**numpy** and **matplotlib**)."
   ]
  },
  {
   "cell_type": "code",
   "execution_count": null,
   "metadata": {
    "collapsed": true,
    "deletable": true,
    "editable": true
   },
   "outputs": [],
   "source": [
    "%matplotlib inline\n",
    "import numpy as np\n",
    "import matplotlib.pyplot as plt\n",
    "\n",
    "# Customise figure style \n",
    "from matplotlib import rc\n",
    "rc('font',size=8)\n",
    "rc('ytick.major',pad=5)\n",
    "rc('xtick.major',pad=5)\n",
    "padding = 5"
   ]
  },
  {
   "cell_type": "markdown",
   "metadata": {
    "deletable": true,
    "editable": true
   },
   "source": [
    "### Set the wave direction and spreading"
   ]
  },
  {
   "cell_type": "code",
   "execution_count": null,
   "metadata": {
    "collapsed": true,
    "deletable": true,
    "editable": true
   },
   "outputs": [],
   "source": [
    "# Define wave climate params\n",
    "Theta = 25\n",
    "ThetaStd = 10"
   ]
  },
  {
   "cell_type": "markdown",
   "metadata": {
    "deletable": true,
    "editable": true
   },
   "source": [
    "### Read the output file"
   ]
  },
  {
   "cell_type": "code",
   "execution_count": null,
   "metadata": {
    "collapsed": false,
    "deletable": true,
    "editable": true
   },
   "outputs": [],
   "source": [
    "# Open coastline evolution file\n",
    "filename = \"Spiral_6_1_1._0.1_\" + str(Theta) + \"_\" + str(ThetaStd) + \".xy\"\n",
    "\n",
    "# Read the header info and get the lines\n",
    "f = open(filename,\"r\")\n",
    "Lines = f.readlines()\n",
    "NoLines = len(Lines)-1\n",
    "Header = Lines[0]\n",
    "\n",
    "# Get the shoreline positions\n",
    "X = np.array(Lines[1].strip().split(\" \")[1:],dtype='float64')\n",
    "Y = np.array(Lines[2].strip().split(\" \")[1:],dtype='float64')"
   ]
  },
  {
   "cell_type": "markdown",
   "metadata": {
    "deletable": true,
    "editable": true
   },
   "source": [
    "### Define output time to visualise"
   ]
  },
  {
   "cell_type": "code",
   "execution_count": null,
   "metadata": {
    "collapsed": true,
    "deletable": true,
    "editable": true
   },
   "outputs": [],
   "source": [
    "TimeIntervals = [0.5,1,2,4,8,16,20]\n",
    "\n",
    "Time = np.zeros(NoLines-1)\n",
    "for i in range(0,NoLines-1,2):\n",
    "    Time[i] = float(Lines[i+1].strip().split(\" \")[0])"
   ]
  },
  {
   "cell_type": "markdown",
   "metadata": {
    "deletable": true,
    "editable": true
   },
   "source": [
    "### Plot the results"
   ]
  },
  {
   "cell_type": "code",
   "execution_count": null,
   "metadata": {
    "collapsed": true,
    "deletable": true,
    "editable": true
   },
   "outputs": [],
   "source": [
    "# Define outputfile name\n",
    "outputfile = \"mean\"+ str(Theta) + \"std\" + str(ThetaStd) + \".png\""
   ]
  },
  {
   "cell_type": "code",
   "execution_count": null,
   "metadata": {
    "collapsed": false,
    "deletable": true,
    "editable": true
   },
   "outputs": [],
   "source": [
    "# Setup the figure space, axis and line to animate\n",
    "fig = plt.figure(1, figsize=(10,10))\n",
    "plt.subplots_adjust(0.2,0.15,0.9,0.85)\n",
    "plt.plot(X,Y,'k.',ms=1,label=\"Initial Coastline\")\n",
    "plt.xlabel('X-coordinate (m)')\n",
    "plt.ylabel('Y-coordinate (m)')\n",
    "plt.xlim(-500,2000)\n",
    "plt.ylim(-2200,50)\n",
    "\n",
    "for TimeInt in TimeIntervals:\n",
    "    Diff = np.abs(Time-TimeInt)\n",
    "    Line = np.argmin(Diff)\n",
    "    Xt = np.array(Lines[Line+1].strip().split(\" \")[1:],dtype='float64')\n",
    "    Yt = np.array(Lines[Line+2].strip().split(\" \")[1:],dtype='float64')\n",
    "    plt.plot(Xt,Yt,'k--',lw=0.5)\n",
    "\n",
    "xmin = np.min(Xt)-500.\n",
    "xmax = np.max(Xt)+500\n",
    "ymin = np.min(Yt)\n",
    "ymax = np.max(Yt)\n",
    "\n",
    "SeaX = np.append(Xt,[xmax,xmax,Xt[0]])\n",
    "SeaY = np.append(Yt,[ymin,ymax,Yt[0]])\n",
    "BeachX = np.append(Xt,[xmin,xmin,Xt[0]])\n",
    "BeachY = np.append(Yt,[ymin,ymax,Yt[0]])\n",
    "    \n",
    "plt.fill(SeaX, SeaY, color=[0.7,0.9,1.0])\n",
    "plt.fill(BeachX, BeachY, color=[1.0,0.9,0.6])\n",
    "plt.plot(X,Y,'k--',lw=0.5,label=\"1/2, 1, 2, 4, 8, 16 Year Coastlines\")\n",
    "plt.plot(X,Y,'k-',lw=1,label=\"20 Year Coastline\")\n",
    "plt.plot(X,Y,'ko',ms=3)\n",
    "plt.plot(X[0:2],Y[0:2],'k-',lw=2)\n",
    "plt.plot(X[-2:],Y[-2:],'k-',lw=2)\n",
    "\n",
    "# Display legend\n",
    "plt.rcParams.update({'legend.labelspacing':0.1}) \n",
    "plt.rcParams.update({'legend.numpoints':1}) \n",
    "plt.rcParams.update({'legend.frameon':False}) \n",
    "plt.rcParams.update({'legend.handlelength':1.5}) \n",
    "plt.legend(loc=3)\n",
    "leg = plt.gca().get_legend()\n",
    "\n",
    "# Set fontsize to small\n",
    "ltext  = leg.get_texts()\n",
    "plt.setp(ltext, fontsize=8) \n",
    "\n",
    "# Bin all wave data\n",
    "Waves = np.random.normal(Theta,ThetaStd,10000)\n",
    "widths = 15*np.pi/180.0\n",
    "ax = plt.axes([0.65,0.55,0.25,0.25],polar=True)\n",
    "hist = np.histogram(Waves*np.pi/180.0,bins=np.arange(0,361*np.pi/180.0,widths))\n",
    "plt.bar(hist[1][:-1],hist[0],widths,color='white',edgecolor='k')\n",
    "ax.set_theta_zero_location(\"N\")\n",
    "ax.set_theta_direction(-1)\n",
    "ax.set_axis_bgcolor('none')\n",
    "plt.axis('off')\n",
    "plt.yticks([])\n",
    "plt.xticks([])\n",
    "\n",
    "plt.savefig(outputfile)\n",
    "plt.show()"
   ]
  },
  {
   "cell_type": "markdown",
   "metadata": {
    "deletable": true,
    "editable": true
   },
   "source": [
    "## Clean run\n",
    "\n",
    "To avoid storage of extensive data on the server delete the output file using the cmmand `rm`:"
   ]
  },
  {
   "cell_type": "code",
   "execution_count": null,
   "metadata": {
    "collapsed": true,
    "deletable": true,
    "editable": true
   },
   "outputs": [],
   "source": [
    "!rm Spiral_6_1_1._0.1_*.xy"
   ]
  },
  {
   "cell_type": "code",
   "execution_count": null,
   "metadata": {
    "collapsed": true,
    "deletable": true,
    "editable": true
   },
   "outputs": [],
   "source": []
  }
 ],
 "metadata": {
  "kernelspec": {
   "display_name": "Python 2",
   "language": "python",
   "name": "python2"
  },
  "language_info": {
   "codemirror_mode": {
    "name": "ipython",
    "version": 2
   },
   "file_extension": ".py",
   "mimetype": "text/x-python",
   "name": "python",
   "nbconvert_exporter": "python",
   "pygments_lexer": "ipython2",
   "version": "2.7.6"
  }
 },
 "nbformat": 4,
 "nbformat_minor": 0
}
