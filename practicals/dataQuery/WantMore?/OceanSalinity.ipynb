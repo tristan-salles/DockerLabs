{
 "cells": [
  {
   "cell_type": "markdown",
   "metadata": {},
   "source": [
    "# Mapping Ocean Global Salinity with Basemap\n",
    "\n",
    "# Inline output\n",
    "\n",
    "The following code helps make all of the code samples in this notebook display their output properly. \n",
    "\n",
    "Note that you need to run this cell before running any other cell in the notebook. Otherwise your output will display in a separate window, or it won't display at all. If you try to run a cell and the output does not display in the notebook:\n",
    "- Restart the IPython Notebook kernel.\n",
    "- Run the following cell.\n",
    "- Run the cell you were interested in again."
   ]
  },
  {
   "cell_type": "code",
   "execution_count": null,
   "metadata": {
    "collapsed": true
   },
   "outputs": [],
   "source": [
    "# This just lets the output of the following code samples\n",
    "#  display inline on this page, at an appropriate size.\n",
    "from pylab import rcParams\n",
    "import warnings\n",
    "warnings.filterwarnings('ignore')\n",
    "%matplotlib inline\n",
    "rcParams['figure.figsize'] = (12,8)"
   ]
  },
  {
   "cell_type": "markdown",
   "metadata": {},
   "source": [
    "Python’s [matplotlib](http://matplotlib.org/) package is an amazing resource, and the [Basemap toolkit](http://matplotlib.org/basemap/) extends matplotlib’s capabilities to mapping applications.\n",
    "\n",
    "Also, we will need the **netCDF** libray (<a ref='http://www.unidata.ucar.edu/netcdf/'>Network Common Data Form</a>) is a set of software libraries and self-describing, machine-independent data formats that support the creation, access, and sharing of array-oriented scientific data. The project homepage is hosted by the **Unidata** program at the University Corporation for Atmospheric Research (**UCAR**).\n",
    "\n",
    "We will use them to make a map of ocean global salinity. The first thing consists in `importing` these libraries into our environment. "
   ]
  },
  {
   "cell_type": "code",
   "execution_count": null,
   "metadata": {
    "collapsed": true
   },
   "outputs": [],
   "source": [
    "import numpy as np\n",
    "import matplotlib.cm as cm\n",
    "import matplotlib.tri as Tri\n",
    "import matplotlib.pyplot as plt\n",
    "from mpl_toolkits.basemap import Basemap, shiftgrid\n",
    "import netCDF4\n",
    "import datetime as dt\n",
    "import pandas as pd\n",
    "from StringIO import StringIO"
   ]
  },
  {
   "cell_type": "markdown",
   "metadata": {},
   "source": [
    "# Making a simple map\n",
    "\n",
    "Let's start out by making a simple map of the world. If you run the following code, you should get a nice map of the globe, with good clean coastlines:"
   ]
  },
  {
   "cell_type": "code",
   "execution_count": null,
   "metadata": {
    "collapsed": false
   },
   "outputs": [],
   "source": [
    "# make sure the value of resolution is a lowercase L,\n",
    "#  for 'low', not a numeral 1\n",
    "my_map = Basemap(projection='ortho', lat_0=50, lon_0=-100,\n",
    "              resolution='l', area_thresh=1000.0)\n",
    " \n",
    "my_map.drawcoastlines()\n",
    " \n",
    "plt.show()"
   ]
  },
  {
   "cell_type": "markdown",
   "metadata": {},
   "source": [
    "# Adding details\n",
    "\n",
    "Let’s add some more detail to this map, starting with country borders. Add the following lines after `map.drawcoastlines()`:"
   ]
  },
  {
   "cell_type": "code",
   "execution_count": null,
   "metadata": {
    "collapsed": false
   },
   "outputs": [],
   "source": [
    "# make sure the value of resolution is a lowercase L,\n",
    "#  for 'low', not a numeral 1\n",
    "my_map = Basemap(projection='ortho', lat_0=50, lon_0=-100,\n",
    "              resolution='l', area_thresh=1000.0)\n",
    " \n",
    "my_map.drawcoastlines()\n",
    "my_map.drawcountries()\n",
    "my_map.fillcontinents(color='green')\n",
    "my_map.drawmapboundary()\n",
    " \n",
    "plt.show()"
   ]
  },
  {
   "cell_type": "markdown",
   "metadata": {},
   "source": [
    "Now let’s draw latitude and longitude lines:"
   ]
  },
  {
   "cell_type": "code",
   "execution_count": null,
   "metadata": {
    "collapsed": false
   },
   "outputs": [],
   "source": [
    "# make sure the value of resolution is a lowercase L,\n",
    "#  for 'low', not a numeral 1\n",
    "my_map = Basemap(projection='ortho', lat_0=50, lon_0=-100,\n",
    "              resolution='l', area_thresh=1000.0)\n",
    " \n",
    "my_map.drawcoastlines()\n",
    "my_map.drawcountries()\n",
    "my_map.fillcontinents(color='green')\n",
    "my_map.drawmapboundary()\n",
    " \n",
    "my_map.drawmeridians(np.arange(0, 360, 30))\n",
    "my_map.drawparallels(np.arange(-90, 90, 30))\n",
    " \n",
    "plt.show()"
   ]
  },
  {
   "cell_type": "markdown",
   "metadata": {},
   "source": [
    "The `np.arange()` arguments tell where your latitude and longitude lines should begin and end, and how far apart they should be spaced.\n",
    "\n",
    "Let’s play with two of the map settings, and then we'll move on to plotting data on this globe. Let’s start by adjusting the perspective. Change the latitude and longitude parameters in the original Basemap definition to -30 and 140. When you run the program, you should see your map centered along Australia:"
   ]
  },
  {
   "cell_type": "code",
   "execution_count": null,
   "metadata": {
    "collapsed": false
   },
   "outputs": [],
   "source": [
    "from mpl_toolkits.basemap import Basemap\n",
    "import matplotlib.pyplot as plt\n",
    "import numpy as np\n",
    " \n",
    "# make sure the value of resolution is a lowercase L,\n",
    "#  for 'low', not a numeral 1\n",
    "my_map = Basemap(projection='ortho', lat_0=-30, lon_0=140,\n",
    "              resolution='l', area_thresh=1000.0)\n",
    " \n",
    "my_map.drawcoastlines()\n",
    "my_map.drawcountries()\n",
    "my_map.fillcontinents(color='green')\n",
    "my_map.drawmapboundary()\n",
    " \n",
    "my_map.drawmeridians(np.arange(0, 360, 30))\n",
    "my_map.drawparallels(np.arange(-90, 90, 30))\n",
    " \n",
    "plt.show()"
   ]
  },
  {
   "cell_type": "markdown",
   "metadata": {},
   "source": [
    "Now let’s change the kind of map we're producing. Change the projection type to ‘robin’. You should end up with a Robinson projection instead of a globe:"
   ]
  },
  {
   "cell_type": "code",
   "execution_count": null,
   "metadata": {
    "collapsed": false
   },
   "outputs": [],
   "source": [
    "# make sure the value of resolution is a lowercase L,\n",
    "#  for 'low', not a numeral 1\n",
    "# try the following projection:\n",
    "#- mill\n",
    "#- robin\n",
    "my_map = Basemap(projection='mill', lat_0=-30, lon_0=140,\n",
    "              resolution='l', area_thresh=1000.0)\n",
    " \n",
    "my_map.drawcoastlines()\n",
    "my_map.drawcountries()\n",
    "my_map.fillcontinents(color='green')\n",
    "\n",
    "my_map.drawmapboundary()\n",
    " \n",
    "my_map.drawmeridians(np.arange(0, 360, 30))\n",
    "my_map.drawparallels(np.arange(-90, 90, 30))\n",
    " \n",
    "plt.show()"
   ]
  },
  {
   "cell_type": "markdown",
   "metadata": {},
   "source": [
    "Changing the color scale to bluemarble shows the color scale firstly introduced by NASA to highlight global differences in topography."
   ]
  },
  {
   "cell_type": "code",
   "execution_count": null,
   "metadata": {
    "collapsed": false
   },
   "outputs": [],
   "source": [
    "color_map = Basemap(projection='moll', lat_0=-30, lon_0=140,\n",
    "              resolution='l', area_thresh=1000.0)\n",
    " \n",
    "color_map.drawcoastlines()\n",
    "color_map.drawcountries()\n",
    "\n",
    "# Define the new color map\n",
    "color_map.bluemarble()\n",
    "color_map.drawmapboundary()\n",
    " \n",
    "color_map.drawmeridians(np.arange(0, 360, 30))\n",
    "color_map.drawparallels(np.arange(-90, 90, 30))\n",
    " \n",
    "plt.show()"
   ]
  },
  {
   "cell_type": "code",
   "execution_count": null,
   "metadata": {
    "collapsed": false
   },
   "outputs": [],
   "source": [
    "color_map = Basemap(projection='robin', lat_0=-30, lon_0=140,\n",
    "              resolution='l', area_thresh=1000.0)\n",
    " \n",
    "color_map.drawcoastlines()\n",
    "color_map.drawcountries()\n",
    "\n",
    "# Define the new color map\n",
    "color_map.bluemarble()\n",
    "color_map.drawmapboundary()\n",
    " \n",
    "color_map.drawmeridians(np.arange(0, 360, 30))\n",
    "color_map.drawparallels(np.arange(-90, 90, 30))\n",
    " \n",
    "plt.show()"
   ]
  },
  {
   "cell_type": "markdown",
   "metadata": {},
   "source": [
    "# Plotting global ocean salinity\n",
    "\n",
    "As for our previous notebooks, we will use OPenDAP protocal to access the dataset.\n",
    "\n",
    "#### OPenDAP: Open-source Project for a Network Data Access Protocol"
   ]
  },
  {
   "cell_type": "code",
   "execution_count": null,
   "metadata": {
    "collapsed": false
   },
   "outputs": [],
   "source": [
    "# Set the URL\n",
    "url='http://thredds.jpl.nasa.gov/thredds/dodsC/ncml_aggregation/SalinityDensity/aquarius/aggregate__AQUARIUS_L3_SSS_SMI_7DAY_V4.ncml'\n",
    "# Load it via OPeNDAP\n",
    "nc = netCDF4.Dataset(url)\n",
    "# Query the variables\n",
    "nc.variables.keys()"
   ]
  },
  {
   "cell_type": "markdown",
   "metadata": {},
   "source": [
    "Now we take the variables that we meed:\n",
    "- longitude `lon`\n",
    "- latitude `lat`\n",
    "- salinity `l3m_data`"
   ]
  },
  {
   "cell_type": "code",
   "execution_count": null,
   "metadata": {
    "collapsed": false
   },
   "outputs": [],
   "source": [
    "slat = nc.variables['lat'][:]\n",
    "slon = nc.variables['lon'][:]\n",
    "sal = nc.variables['l3m_data'][0,:,:]"
   ]
  },
  {
   "cell_type": "markdown",
   "metadata": {},
   "source": [
    "We then create a grid based on longitude and latitude coordinates."
   ]
  },
  {
   "cell_type": "code",
   "execution_count": null,
   "metadata": {
    "collapsed": false
   },
   "outputs": [],
   "source": [
    "slon, slat = np.meshgrid(slon, slat)"
   ]
  },
  {
   "cell_type": "markdown",
   "metadata": {},
   "source": [
    "We can now use Basemap to project our salinity data to a mew map."
   ]
  },
  {
   "cell_type": "code",
   "execution_count": null,
   "metadata": {
    "collapsed": false
   },
   "outputs": [],
   "source": [
    "# initial map\n",
    "backmap = Basemap(projection='robin',lon_0=0,resolution='c')\n",
    "\n",
    "# salinity map\n",
    "sal_map = Basemap(projection='robin',lon_0=0,resolution='c')\n",
    "xsal, ysal = sal_map(slon,slat)"
   ]
  },
  {
   "cell_type": "markdown",
   "metadata": {},
   "source": [
    "Time to draw the map"
   ]
  },
  {
   "cell_type": "code",
   "execution_count": null,
   "metadata": {
    "collapsed": false
   },
   "outputs": [],
   "source": [
    "sal_map.drawcoastlines(linewidth=0.25)\n",
    "sal_map.drawcountries(linewidth=0.25)\n",
    "\n",
    "sal_map.fillcontinents(color='#eeefff',lake_color='white')\n",
    "sal_map.drawmapboundary(fill_color='white')\n",
    "backmap.drawmeridians(np.arange(0,360,30))\n",
    "backmap.drawparallels(np.arange(-90,90,30))\n",
    "\n",
    "cs = backmap.contourf(xsal,ysal,sal, levels=np.arange(32,37.7,0.1), cmap=cm.spring,  vmin=32, vmax=37.5 )\n",
    "cbar = sal_map.colorbar(cs,location='bottom',pad=\"5%\")\n",
    "cbar.set_label('salinity in psu')"
   ]
  },
  {
   "cell_type": "markdown",
   "metadata": {},
   "source": [
    "# Closer look to our data for Australia"
   ]
  },
  {
   "cell_type": "markdown",
   "metadata": {},
   "source": [
    "## Zooming in\n",
    "\n",
    "Let’s see how to zoom in on a region. This is good to know because there are many data sets specific to one region of the world, which would get lost when plotted on a map of the whole world. Some projections can not be zoomed in at all, so if things are not working well, make sure to look at the [documentation](http://matplotlib.org/basemap/api/basemap_api.html).\n",
    "\n",
    "Let zoom to Australia. One way to zoom in is to specify the latitude and longitude of the lower left and upper right corners of the region you want to show. Let’s use a mercator projection, which supports this method of zooming."
   ]
  },
  {
   "cell_type": "code",
   "execution_count": null,
   "metadata": {
    "collapsed": false
   },
   "outputs": [],
   "source": [
    "aus_map = Basemap(projection='merc', lat_0=-33.8650, lon_0=151.2,\n",
    "    resolution = 'l', area_thresh = 1000.0,\n",
    "    llcrnrlon=110.0, llcrnrlat=-45,\n",
    "    urcrnrlon=160.0, urcrnrlat=-10)\n",
    " \n",
    "aus_map.drawcoastlines()\n",
    "aus_map.drawcountries()\n",
    "# Here we use the shaded relied color map\n",
    "#aus_map.shadedrelief()\n",
    "aus_map.drawmapboundary()\n",
    " \n",
    "aus_map.drawmeridians(np.arange(0, 360, 30))\n",
    "aus_map.drawparallels(np.arange(-90, 90, 30))\n",
    "# Here we use the shaded relied color map\n",
    "aus_map.etopo()\n",
    "\n",
    "plt.show()"
   ]
  },
  {
   "cell_type": "markdown",
   "metadata": {},
   "source": [
    "## Salinity map around Australia\n",
    "\n",
    "First we `clip` our salinity dataset to the region of interest..."
   ]
  },
  {
   "cell_type": "code",
   "execution_count": null,
   "metadata": {
    "collapsed": false
   },
   "outputs": [],
   "source": [
    "# Write your code here"
   ]
  },
  {
   "cell_type": "markdown",
   "metadata": {},
   "source": [
    "Now we plot the salinity data"
   ]
  },
  {
   "cell_type": "code",
   "execution_count": null,
   "metadata": {
    "collapsed": false
   },
   "outputs": [],
   "source": [
    "# Write your code here"
   ]
  },
  {
   "cell_type": "code",
   "execution_count": null,
   "metadata": {
    "collapsed": true
   },
   "outputs": [],
   "source": []
  },
  {
   "cell_type": "code",
   "execution_count": null,
   "metadata": {
    "collapsed": true
   },
   "outputs": [],
   "source": []
  },
  {
   "cell_type": "code",
   "execution_count": null,
   "metadata": {
    "collapsed": true
   },
   "outputs": [],
   "source": []
  },
  {
   "cell_type": "code",
   "execution_count": null,
   "metadata": {
    "collapsed": true
   },
   "outputs": [],
   "source": []
  },
  {
   "cell_type": "code",
   "execution_count": null,
   "metadata": {
    "collapsed": true
   },
   "outputs": [],
   "source": []
  }
 ],
 "metadata": {
  "kernelspec": {
   "display_name": "Python 2",
   "language": "python",
   "name": "python2"
  },
  "language_info": {
   "codemirror_mode": {
    "name": "ipython",
    "version": 2
   },
   "file_extension": ".py",
   "mimetype": "text/x-python",
   "name": "python",
   "nbconvert_exporter": "python",
   "pygments_lexer": "ipython2",
   "version": "2.7.9"
  }
 },
 "nbformat": 4,
 "nbformat_minor": 0
}
